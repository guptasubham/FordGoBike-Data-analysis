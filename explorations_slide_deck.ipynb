{
 "cells": [
  {
   "cell_type": "markdown",
   "metadata": {
    "colab_type": "text",
    "id": "7obAm0Slf-bB",
    "slideshow": {
     "slide_type": "slide"
    }
   },
   "source": [
    "# VISUALIZATION OF FORDGoBIKE DATA\n",
    "### (JANUARY 2018- DECEMBER 2018)\n",
    "#### By SUBHAM KUMAR GUPTA\n",
    "\n"
   ]
  },
  {
   "cell_type": "markdown",
   "metadata": {
    "slideshow": {
     "slide_type": "slide"
    }
   },
   "source": [
    "### INTRODUCTION:\n",
    ">FordGoBike is a public bike sharing system currently operating in the San Francisco, San Jose and East-Bay area of California,USA. It began it's service in 2013 with only 700 bikes servicing arround 70 locations arround the Bay-Area,San Francisco. Since then the FordGoBike system has expanded to over 7000 bikes covering three major regions in California. In the month of June-2019, FordGoBike systems changed it's branding to Lyft BayWheels Bike Sharing Company. It is currently a major player in the bikes sharing market in the region, with key-players being UBER, JUMP and LIME.\n",
    "\n",
    ">Like other bike sharing services, the FordGoBike systems also has a network of specially designed sturdy and attractive bikes that are suitable for all types of users.The bikes can unlocked from any station through the mobile app and can be returned to any other station within the servicing area, making it an ideal choice for one-way trips around the city.The bikes are available 24/7 and people use it to commute to work, to school or any other social events in a fun,convenient and affordable way."
   ]
  },
  {
   "cell_type": "markdown",
   "metadata": {
    "ExecuteTime": {
     "end_time": "2020-09-08T07:19:48.315917Z",
     "start_time": "2020-09-08T07:19:48.306944Z"
    },
    "slideshow": {
     "slide_type": "slide"
    }
   },
   "source": [
    "## Preliminary Wrangling\n",
    "\n",
    "> This document explores a dataset from the FordGoBike bike sharing system, it consists of data related to every ride during the year 2018. The dataset contains 1863721 data-points with data related to trip-duration, start and end time of the trip, starting and ending stations, bike_id and user_type."
   ]
  },
  {
   "cell_type": "code",
   "execution_count": 4,
   "metadata": {
    "ExecuteTime": {
     "end_time": "2020-09-08T07:22:51.471130Z",
     "start_time": "2020-09-08T07:22:35.120409Z"
    },
    "colab": {
     "base_uri": "https://localhost:8080/",
     "height": 71
    },
    "colab_type": "code",
    "executionInfo": {
     "elapsed": 3204,
     "status": "ok",
     "timestamp": 1599541484902,
     "user": {
      "displayName": "Subham Gupta",
      "photoUrl": "",
      "userId": "02241834158547853738"
     },
     "user_tz": -330
    },
    "id": "q5xzYCV4f-bD",
    "outputId": "35189471-f820-4963-93dc-195f031cde84",
    "slideshow": {
     "slide_type": "skip"
    }
   },
   "outputs": [],
   "source": [
    "import pandas as pd\n",
    "import numpy as np\n",
    "import matplotlib.pyplot as plt\n",
    "import seaborn as sns \n",
    "%matplotlib inline"
   ]
  },
  {
   "cell_type": "markdown",
   "metadata": {
    "colab_type": "text",
    "id": "otQ52Pyss1Ll",
    "slideshow": {
     "slide_type": "notes"
    }
   },
   "source": [
    "### I saved the csv files from the FordGoBike website in one location on my computer. \n",
    "#### I then used the glob and os modules to store, load, and combine the files into one new file, fordgo_master.csv:\n",
    "\n",
    "path = r'D:\\bertelsmann_udacity\\udacity_final_project\\data1'\n",
    "\n",
    "files = glob.glob(os.path.join(path, \"*.csv\"))\n",
    "\n",
    "df = pd.concat((pd.read_csv(f) for f in files), ignore_index = True)\n",
    "\n",
    "df.to_csv('fordgobike_master_2018.csv', index = False)"
   ]
  },
  {
   "cell_type": "code",
   "execution_count": 5,
   "metadata": {
    "ExecuteTime": {
     "end_time": "2020-09-08T07:22:51.520996Z",
     "start_time": "2020-09-08T07:22:51.515011Z"
    },
    "colab": {
     "base_uri": "https://localhost:8080/",
     "height": 34
    },
    "colab_type": "code",
    "executionInfo": {
     "elapsed": 4798,
     "status": "ok",
     "timestamp": 1599541486523,
     "user": {
      "displayName": "Subham Gupta",
      "photoUrl": "",
      "userId": "02241834158547853738"
     },
     "user_tz": -330
    },
    "id": "_PbPqRznq1Q1",
    "outputId": "c298415d-91ce-475f-96be-4f08fd4bd58f",
    "slideshow": {
     "slide_type": "skip"
    }
   },
   "outputs": [],
   "source": [
    "#I did my project on google colab:\n",
    "#from google.colab import drive\n",
    "#drive.mount('/content/drive')"
   ]
  },
  {
   "cell_type": "code",
   "execution_count": 6,
   "metadata": {
    "ExecuteTime": {
     "end_time": "2020-09-08T07:23:31.845560Z",
     "start_time": "2020-09-08T07:22:51.548920Z"
    },
    "colab": {
     "base_uri": "https://localhost:8080/",
     "height": 326
    },
    "colab_type": "code",
    "executionInfo": {
     "elapsed": 15909,
     "status": "ok",
     "timestamp": 1599541497671,
     "user": {
      "displayName": "Subham Gupta",
      "photoUrl": "",
      "userId": "02241834158547853738"
     },
     "user_tz": -330
    },
    "id": "O9LQhgPpf-bO",
    "outputId": "b23f3573-fdcb-4a08-b60d-5017cdb40920",
    "slideshow": {
     "slide_type": "skip"
    }
   },
   "outputs": [
    {
     "data": {
      "text/html": [
       "<div>\n",
       "<style scoped>\n",
       "    .dataframe tbody tr th:only-of-type {\n",
       "        vertical-align: middle;\n",
       "    }\n",
       "\n",
       "    .dataframe tbody tr th {\n",
       "        vertical-align: top;\n",
       "    }\n",
       "\n",
       "    .dataframe thead th {\n",
       "        text-align: right;\n",
       "    }\n",
       "</style>\n",
       "<table border=\"1\" class=\"dataframe\">\n",
       "  <thead>\n",
       "    <tr style=\"text-align: right;\">\n",
       "      <th></th>\n",
       "      <th>duration_sec</th>\n",
       "      <th>start_time</th>\n",
       "      <th>end_time</th>\n",
       "      <th>start_station_id</th>\n",
       "      <th>start_station_name</th>\n",
       "      <th>start_station_latitude</th>\n",
       "      <th>start_station_longitude</th>\n",
       "      <th>end_station_id</th>\n",
       "      <th>end_station_name</th>\n",
       "      <th>end_station_latitude</th>\n",
       "      <th>end_station_longitude</th>\n",
       "      <th>bike_id</th>\n",
       "      <th>user_type</th>\n",
       "      <th>bike_share_for_all_trip</th>\n",
       "    </tr>\n",
       "  </thead>\n",
       "  <tbody>\n",
       "    <tr>\n",
       "      <td>0</td>\n",
       "      <td>75284</td>\n",
       "      <td>2018-01-31 22:52:35.2390</td>\n",
       "      <td>2018-02-01 19:47:19.8240</td>\n",
       "      <td>120.0</td>\n",
       "      <td>Mission Dolores Park</td>\n",
       "      <td>37.761420</td>\n",
       "      <td>-122.426435</td>\n",
       "      <td>285.0</td>\n",
       "      <td>Webster St at O'Farrell St</td>\n",
       "      <td>37.783521</td>\n",
       "      <td>-122.431158</td>\n",
       "      <td>2765</td>\n",
       "      <td>Subscriber</td>\n",
       "      <td>No</td>\n",
       "    </tr>\n",
       "    <tr>\n",
       "      <td>1</td>\n",
       "      <td>85422</td>\n",
       "      <td>2018-01-31 16:13:34.3510</td>\n",
       "      <td>2018-02-01 15:57:17.3100</td>\n",
       "      <td>15.0</td>\n",
       "      <td>San Francisco Ferry Building (Harry Bridges Pl...</td>\n",
       "      <td>37.795392</td>\n",
       "      <td>-122.394203</td>\n",
       "      <td>15.0</td>\n",
       "      <td>San Francisco Ferry Building (Harry Bridges Pl...</td>\n",
       "      <td>37.795392</td>\n",
       "      <td>-122.394203</td>\n",
       "      <td>2815</td>\n",
       "      <td>Customer</td>\n",
       "      <td>No</td>\n",
       "    </tr>\n",
       "    <tr>\n",
       "      <td>2</td>\n",
       "      <td>71576</td>\n",
       "      <td>2018-01-31 14:23:55.8890</td>\n",
       "      <td>2018-02-01 10:16:52.1160</td>\n",
       "      <td>304.0</td>\n",
       "      <td>Jackson St at 5th St</td>\n",
       "      <td>37.348759</td>\n",
       "      <td>-121.894798</td>\n",
       "      <td>296.0</td>\n",
       "      <td>5th St at Virginia St</td>\n",
       "      <td>37.325998</td>\n",
       "      <td>-121.877120</td>\n",
       "      <td>3039</td>\n",
       "      <td>Customer</td>\n",
       "      <td>No</td>\n",
       "    </tr>\n",
       "    <tr>\n",
       "      <td>3</td>\n",
       "      <td>61076</td>\n",
       "      <td>2018-01-31 14:53:23.5620</td>\n",
       "      <td>2018-02-01 07:51:20.5000</td>\n",
       "      <td>75.0</td>\n",
       "      <td>Market St at Franklin St</td>\n",
       "      <td>37.773793</td>\n",
       "      <td>-122.421239</td>\n",
       "      <td>47.0</td>\n",
       "      <td>4th St at Harrison St</td>\n",
       "      <td>37.780955</td>\n",
       "      <td>-122.399749</td>\n",
       "      <td>321</td>\n",
       "      <td>Customer</td>\n",
       "      <td>No</td>\n",
       "    </tr>\n",
       "    <tr>\n",
       "      <td>4</td>\n",
       "      <td>39966</td>\n",
       "      <td>2018-01-31 19:52:24.6670</td>\n",
       "      <td>2018-02-01 06:58:31.0530</td>\n",
       "      <td>74.0</td>\n",
       "      <td>Laguna St at Hayes St</td>\n",
       "      <td>37.776435</td>\n",
       "      <td>-122.426244</td>\n",
       "      <td>19.0</td>\n",
       "      <td>Post St at Kearny St</td>\n",
       "      <td>37.788975</td>\n",
       "      <td>-122.403452</td>\n",
       "      <td>617</td>\n",
       "      <td>Subscriber</td>\n",
       "      <td>No</td>\n",
       "    </tr>\n",
       "  </tbody>\n",
       "</table>\n",
       "</div>"
      ],
      "text/plain": [
       "   duration_sec                start_time                  end_time  \\\n",
       "0         75284  2018-01-31 22:52:35.2390  2018-02-01 19:47:19.8240   \n",
       "1         85422  2018-01-31 16:13:34.3510  2018-02-01 15:57:17.3100   \n",
       "2         71576  2018-01-31 14:23:55.8890  2018-02-01 10:16:52.1160   \n",
       "3         61076  2018-01-31 14:53:23.5620  2018-02-01 07:51:20.5000   \n",
       "4         39966  2018-01-31 19:52:24.6670  2018-02-01 06:58:31.0530   \n",
       "\n",
       "   start_station_id                                 start_station_name  \\\n",
       "0             120.0                               Mission Dolores Park   \n",
       "1              15.0  San Francisco Ferry Building (Harry Bridges Pl...   \n",
       "2             304.0                               Jackson St at 5th St   \n",
       "3              75.0                           Market St at Franklin St   \n",
       "4              74.0                              Laguna St at Hayes St   \n",
       "\n",
       "   start_station_latitude  start_station_longitude  end_station_id  \\\n",
       "0               37.761420              -122.426435           285.0   \n",
       "1               37.795392              -122.394203            15.0   \n",
       "2               37.348759              -121.894798           296.0   \n",
       "3               37.773793              -122.421239            47.0   \n",
       "4               37.776435              -122.426244            19.0   \n",
       "\n",
       "                                    end_station_name  end_station_latitude  \\\n",
       "0                         Webster St at O'Farrell St             37.783521   \n",
       "1  San Francisco Ferry Building (Harry Bridges Pl...             37.795392   \n",
       "2                              5th St at Virginia St             37.325998   \n",
       "3                              4th St at Harrison St             37.780955   \n",
       "4                               Post St at Kearny St             37.788975   \n",
       "\n",
       "   end_station_longitude  bike_id   user_type bike_share_for_all_trip  \n",
       "0            -122.431158     2765  Subscriber                      No  \n",
       "1            -122.394203     2815    Customer                      No  \n",
       "2            -121.877120     3039    Customer                      No  \n",
       "3            -122.399749      321    Customer                      No  \n",
       "4            -122.403452      617  Subscriber                      No  "
      ]
     },
     "execution_count": 6,
     "metadata": {},
     "output_type": "execute_result"
    }
   ],
   "source": [
    "#Loading the dataset in pandas:\n",
    "bike_data=pd.read_csv(\"fordgobike_master_2018.csv\")\n",
    "bike_data.head()"
   ]
  },
  {
   "cell_type": "code",
   "execution_count": 5,
   "metadata": {
    "ExecuteTime": {
     "end_time": "2020-09-06T11:51:09.466938Z",
     "start_time": "2020-09-06T11:51:09.100919Z"
    },
    "colab": {
     "base_uri": "https://localhost:8080/",
     "height": 374
    },
    "colab_type": "code",
    "executionInfo": {
     "elapsed": 15872,
     "status": "ok",
     "timestamp": 1599541497675,
     "user": {
      "displayName": "Subham Gupta",
      "photoUrl": "",
      "userId": "02241834158547853738"
     },
     "user_tz": -330
    },
    "id": "3JOguJmlf-bY",
    "outputId": "8cc2e172-db8b-440f-ea41-d907a99a28e0",
    "slideshow": {
     "slide_type": "skip"
    },
    "tags": []
   },
   "outputs": [
    {
     "name": "stdout",
     "output_type": "stream",
     "text": [
      "<class 'pandas.core.frame.DataFrame'>\n",
      "RangeIndex: 1863721 entries, 0 to 1863720\n",
      "Data columns (total 14 columns):\n",
      " #   Column                   Dtype  \n",
      "---  ------                   -----  \n",
      " 0   duration_sec             int64  \n",
      " 1   start_time               object \n",
      " 2   end_time                 object \n",
      " 3   start_station_id         float64\n",
      " 4   start_station_name       object \n",
      " 5   start_station_latitude   float64\n",
      " 6   start_station_longitude  float64\n",
      " 7   end_station_id           float64\n",
      " 8   end_station_name         object \n",
      " 9   end_station_latitude     float64\n",
      " 10  end_station_longitude    float64\n",
      " 11  bike_id                  int64  \n",
      " 12  user_type                object \n",
      " 13  bike_share_for_all_trip  object \n",
      "dtypes: float64(6), int64(2), object(6)\n",
      "memory usage: 199.1+ MB\n"
     ]
    }
   ],
   "source": [
    " #Getting an overview of the whole dataset:\n",
    "bike_data.info()"
   ]
  },
  {
   "cell_type": "code",
   "execution_count": 6,
   "metadata": {
    "ExecuteTime": {
     "start_time": "2020-09-06T12:57:18.688Z"
    },
    "colab": {
     "base_uri": "https://localhost:8080/",
     "height": 326
    },
    "colab_type": "code",
    "executionInfo": {
     "elapsed": 15863,
     "status": "ok",
     "timestamp": 1599541497686,
     "user": {
      "displayName": "Subham Gupta",
      "photoUrl": "",
      "userId": "02241834158547853738"
     },
     "user_tz": -330
    },
    "id": "IZVFmUR8f-bh",
    "outputId": "f21896de-3af7-4240-fde7-2e442eda37a5",
    "slideshow": {
     "slide_type": "skip"
    }
   },
   "outputs": [
    {
     "data": {
      "text/html": [
       "<div>\n",
       "<style scoped>\n",
       "    .dataframe tbody tr th:only-of-type {\n",
       "        vertical-align: middle;\n",
       "    }\n",
       "\n",
       "    .dataframe tbody tr th {\n",
       "        vertical-align: top;\n",
       "    }\n",
       "\n",
       "    .dataframe thead th {\n",
       "        text-align: right;\n",
       "    }\n",
       "</style>\n",
       "<table border=\"1\" class=\"dataframe\">\n",
       "  <thead>\n",
       "    <tr style=\"text-align: right;\">\n",
       "      <th></th>\n",
       "      <th>duration_sec</th>\n",
       "      <th>start_time</th>\n",
       "      <th>end_time</th>\n",
       "      <th>start_station_id</th>\n",
       "      <th>start_station_name</th>\n",
       "      <th>start_station_latitude</th>\n",
       "      <th>start_station_longitude</th>\n",
       "      <th>end_station_id</th>\n",
       "      <th>end_station_name</th>\n",
       "      <th>end_station_latitude</th>\n",
       "      <th>end_station_longitude</th>\n",
       "      <th>bike_id</th>\n",
       "      <th>user_type</th>\n",
       "      <th>bike_share_for_all_trip</th>\n",
       "    </tr>\n",
       "  </thead>\n",
       "  <tbody>\n",
       "    <tr>\n",
       "      <th>409923</th>\n",
       "      <td>1109</td>\n",
       "      <td>2018-04-09 20:19:02.9240</td>\n",
       "      <td>2018-04-09 20:37:32.1250</td>\n",
       "      <td>130.0</td>\n",
       "      <td>22nd St Caltrain Station</td>\n",
       "      <td>37.757369</td>\n",
       "      <td>-122.392057</td>\n",
       "      <td>59.0</td>\n",
       "      <td>S Van Ness Ave at Market St</td>\n",
       "      <td>37.774814</td>\n",
       "      <td>-122.418954</td>\n",
       "      <td>920</td>\n",
       "      <td>Subscriber</td>\n",
       "      <td>No</td>\n",
       "    </tr>\n",
       "    <tr>\n",
       "      <th>303289</th>\n",
       "      <td>859</td>\n",
       "      <td>2018-03-05 08:16:17.4980</td>\n",
       "      <td>2018-03-05 08:30:36.5320</td>\n",
       "      <td>95.0</td>\n",
       "      <td>Sanchez St at 15th St</td>\n",
       "      <td>37.766219</td>\n",
       "      <td>-122.431060</td>\n",
       "      <td>19.0</td>\n",
       "      <td>Post St at Kearny St</td>\n",
       "      <td>37.788975</td>\n",
       "      <td>-122.403452</td>\n",
       "      <td>1941</td>\n",
       "      <td>Subscriber</td>\n",
       "      <td>No</td>\n",
       "    </tr>\n",
       "    <tr>\n",
       "      <th>1788434</th>\n",
       "      <td>385</td>\n",
       "      <td>2018-12-17 08:43:02.8790</td>\n",
       "      <td>2018-12-17 08:49:28.3510</td>\n",
       "      <td>218.0</td>\n",
       "      <td>DeFremery Park</td>\n",
       "      <td>37.812331</td>\n",
       "      <td>-122.285171</td>\n",
       "      <td>232.0</td>\n",
       "      <td>MLK Jr Way at 14th St</td>\n",
       "      <td>37.806163</td>\n",
       "      <td>-122.276040</td>\n",
       "      <td>54</td>\n",
       "      <td>Subscriber</td>\n",
       "      <td>No</td>\n",
       "    </tr>\n",
       "    <tr>\n",
       "      <th>1104622</th>\n",
       "      <td>381</td>\n",
       "      <td>2018-08-17 16:47:36.5880</td>\n",
       "      <td>2018-08-17 16:53:58.3740</td>\n",
       "      <td>64.0</td>\n",
       "      <td>5th St at Brannan St</td>\n",
       "      <td>37.776754</td>\n",
       "      <td>-122.399018</td>\n",
       "      <td>5.0</td>\n",
       "      <td>Powell St BART Station (Market St at 5th St)</td>\n",
       "      <td>37.783899</td>\n",
       "      <td>-122.408445</td>\n",
       "      <td>1286</td>\n",
       "      <td>Subscriber</td>\n",
       "      <td>No</td>\n",
       "    </tr>\n",
       "    <tr>\n",
       "      <th>433566</th>\n",
       "      <td>819</td>\n",
       "      <td>2018-04-03 16:05:27.4440</td>\n",
       "      <td>2018-04-03 16:19:06.8160</td>\n",
       "      <td>274.0</td>\n",
       "      <td>Oregon St at Adeline St</td>\n",
       "      <td>37.857567</td>\n",
       "      <td>-122.267558</td>\n",
       "      <td>243.0</td>\n",
       "      <td>Bancroft Way at College Ave</td>\n",
       "      <td>37.869360</td>\n",
       "      <td>-122.254337</td>\n",
       "      <td>3222</td>\n",
       "      <td>Customer</td>\n",
       "      <td>No</td>\n",
       "    </tr>\n",
       "  </tbody>\n",
       "</table>\n",
       "</div>"
      ],
      "text/plain": [
       "         duration_sec  ... bike_share_for_all_trip\n",
       "409923           1109  ...                      No\n",
       "303289            859  ...                      No\n",
       "1788434           385  ...                      No\n",
       "1104622           381  ...                      No\n",
       "433566            819  ...                      No\n",
       "\n",
       "[5 rows x 14 columns]"
      ]
     },
     "execution_count": 6,
     "metadata": {
      "tags": []
     },
     "output_type": "execute_result"
    }
   ],
   "source": [
    "#sampling the data helps understand the required cleaning needed for the dataset:\n",
    "bike_data.sample(5)"
   ]
  },
  {
   "cell_type": "code",
   "execution_count": 7,
   "metadata": {
    "ExecuteTime": {
     "end_time": "2020-09-06T11:51:13.103280Z",
     "start_time": "2020-09-06T11:51:13.096235Z"
    },
    "colab": {
     "base_uri": "https://localhost:8080/",
     "height": 34
    },
    "colab_type": "code",
    "executionInfo": {
     "elapsed": 15815,
     "status": "ok",
     "timestamp": 1599541497687,
     "user": {
      "displayName": "Subham Gupta",
      "photoUrl": "",
      "userId": "02241834158547853738"
     },
     "user_tz": -330
    },
    "id": "iDOMnORNf-bq",
    "outputId": "b28eb0c1-31bf-4edf-e5bc-74f1a45d6978",
    "slideshow": {
     "slide_type": "skip"
    }
   },
   "outputs": [
    {
     "data": {
      "text/plain": [
       "(1863721, 14)"
      ]
     },
     "execution_count": 7,
     "metadata": {
      "tags": []
     },
     "output_type": "execute_result"
    }
   ],
   "source": [
    "bike_data.shape"
   ]
  },
  {
   "cell_type": "code",
   "execution_count": 8,
   "metadata": {
    "ExecuteTime": {
     "end_time": "2020-09-06T11:51:14.819623Z",
     "start_time": "2020-09-06T11:51:13.898086Z"
    },
    "colab": {
     "base_uri": "https://localhost:8080/",
     "height": 297
    },
    "colab_type": "code",
    "executionInfo": {
     "elapsed": 16156,
     "status": "ok",
     "timestamp": 1599541498100,
     "user": {
      "displayName": "Subham Gupta",
      "photoUrl": "",
      "userId": "02241834158547853738"
     },
     "user_tz": -330
    },
    "id": "NOUIzx82f-b9",
    "outputId": "14b3cb54-5549-4fe9-c7d8-75801d93cb7f",
    "slideshow": {
     "slide_type": "skip"
    }
   },
   "outputs": [
    {
     "data": {
      "text/html": [
       "<div>\n",
       "<style scoped>\n",
       "    .dataframe tbody tr th:only-of-type {\n",
       "        vertical-align: middle;\n",
       "    }\n",
       "\n",
       "    .dataframe tbody tr th {\n",
       "        vertical-align: top;\n",
       "    }\n",
       "\n",
       "    .dataframe thead th {\n",
       "        text-align: right;\n",
       "    }\n",
       "</style>\n",
       "<table border=\"1\" class=\"dataframe\">\n",
       "  <thead>\n",
       "    <tr style=\"text-align: right;\">\n",
       "      <th></th>\n",
       "      <th>duration_sec</th>\n",
       "      <th>start_station_id</th>\n",
       "      <th>start_station_latitude</th>\n",
       "      <th>start_station_longitude</th>\n",
       "      <th>end_station_id</th>\n",
       "      <th>end_station_latitude</th>\n",
       "      <th>end_station_longitude</th>\n",
       "      <th>bike_id</th>\n",
       "    </tr>\n",
       "  </thead>\n",
       "  <tbody>\n",
       "    <tr>\n",
       "      <th>count</th>\n",
       "      <td>1.863721e+06</td>\n",
       "      <td>1.851950e+06</td>\n",
       "      <td>1.863721e+06</td>\n",
       "      <td>1.863721e+06</td>\n",
       "      <td>1.851950e+06</td>\n",
       "      <td>1.863721e+06</td>\n",
       "      <td>1.863721e+06</td>\n",
       "      <td>1.863721e+06</td>\n",
       "    </tr>\n",
       "    <tr>\n",
       "      <th>mean</th>\n",
       "      <td>8.573026e+02</td>\n",
       "      <td>1.196744e+02</td>\n",
       "      <td>3.776678e+01</td>\n",
       "      <td>-1.223492e+02</td>\n",
       "      <td>1.181730e+02</td>\n",
       "      <td>3.776690e+01</td>\n",
       "      <td>-1.223487e+02</td>\n",
       "      <td>2.296851e+03</td>\n",
       "    </tr>\n",
       "    <tr>\n",
       "      <th>std</th>\n",
       "      <td>2.370379e+03</td>\n",
       "      <td>1.003976e+02</td>\n",
       "      <td>1.057689e-01</td>\n",
       "      <td>1.654634e-01</td>\n",
       "      <td>1.004403e+02</td>\n",
       "      <td>1.056483e-01</td>\n",
       "      <td>1.650597e-01</td>\n",
       "      <td>1.287733e+03</td>\n",
       "    </tr>\n",
       "    <tr>\n",
       "      <th>min</th>\n",
       "      <td>6.100000e+01</td>\n",
       "      <td>3.000000e+00</td>\n",
       "      <td>3.726331e+01</td>\n",
       "      <td>-1.224737e+02</td>\n",
       "      <td>3.000000e+00</td>\n",
       "      <td>3.726331e+01</td>\n",
       "      <td>-1.224737e+02</td>\n",
       "      <td>1.100000e+01</td>\n",
       "    </tr>\n",
       "    <tr>\n",
       "      <th>25%</th>\n",
       "      <td>3.500000e+02</td>\n",
       "      <td>3.300000e+01</td>\n",
       "      <td>3.777106e+01</td>\n",
       "      <td>-1.224114e+02</td>\n",
       "      <td>3.000000e+01</td>\n",
       "      <td>3.777106e+01</td>\n",
       "      <td>-1.224094e+02</td>\n",
       "      <td>1.225000e+03</td>\n",
       "    </tr>\n",
       "    <tr>\n",
       "      <th>50%</th>\n",
       "      <td>5.560000e+02</td>\n",
       "      <td>8.900000e+01</td>\n",
       "      <td>3.778107e+01</td>\n",
       "      <td>-1.223974e+02</td>\n",
       "      <td>8.800000e+01</td>\n",
       "      <td>3.778127e+01</td>\n",
       "      <td>-1.223971e+02</td>\n",
       "      <td>2.338000e+03</td>\n",
       "    </tr>\n",
       "    <tr>\n",
       "      <th>75%</th>\n",
       "      <td>8.720000e+02</td>\n",
       "      <td>1.860000e+02</td>\n",
       "      <td>3.779625e+01</td>\n",
       "      <td>-1.222865e+02</td>\n",
       "      <td>1.830000e+02</td>\n",
       "      <td>3.779728e+01</td>\n",
       "      <td>-1.222894e+02</td>\n",
       "      <td>3.333000e+03</td>\n",
       "    </tr>\n",
       "    <tr>\n",
       "      <th>max</th>\n",
       "      <td>8.636600e+04</td>\n",
       "      <td>3.810000e+02</td>\n",
       "      <td>4.551000e+01</td>\n",
       "      <td>-7.357000e+01</td>\n",
       "      <td>3.810000e+02</td>\n",
       "      <td>4.551000e+01</td>\n",
       "      <td>-7.357000e+01</td>\n",
       "      <td>6.234000e+03</td>\n",
       "    </tr>\n",
       "  </tbody>\n",
       "</table>\n",
       "</div>"
      ],
      "text/plain": [
       "       duration_sec  start_station_id  ...  end_station_longitude       bike_id\n",
       "count  1.863721e+06      1.851950e+06  ...           1.863721e+06  1.863721e+06\n",
       "mean   8.573026e+02      1.196744e+02  ...          -1.223487e+02  2.296851e+03\n",
       "std    2.370379e+03      1.003976e+02  ...           1.650597e-01  1.287733e+03\n",
       "min    6.100000e+01      3.000000e+00  ...          -1.224737e+02  1.100000e+01\n",
       "25%    3.500000e+02      3.300000e+01  ...          -1.224094e+02  1.225000e+03\n",
       "50%    5.560000e+02      8.900000e+01  ...          -1.223971e+02  2.338000e+03\n",
       "75%    8.720000e+02      1.860000e+02  ...          -1.222894e+02  3.333000e+03\n",
       "max    8.636600e+04      3.810000e+02  ...          -7.357000e+01  6.234000e+03\n",
       "\n",
       "[8 rows x 8 columns]"
      ]
     },
     "execution_count": 8,
     "metadata": {
      "tags": []
     },
     "output_type": "execute_result"
    }
   ],
   "source": [
    "bike_data.describe()"
   ]
  },
  {
   "cell_type": "code",
   "execution_count": 9,
   "metadata": {
    "ExecuteTime": {
     "end_time": "2020-09-06T11:51:17.211221Z",
     "start_time": "2020-09-06T11:51:14.920396Z"
    },
    "colab": {
     "base_uri": "https://localhost:8080/",
     "height": 34
    },
    "colab_type": "code",
    "executionInfo": {
     "elapsed": 20912,
     "status": "ok",
     "timestamp": 1599541502875,
     "user": {
      "displayName": "Subham Gupta",
      "photoUrl": "",
      "userId": "02241834158547853738"
     },
     "user_tz": -330
    },
    "id": "Ts6R-b0tf-cG",
    "outputId": "a0d5a249-97ed-4b4b-a202-eedc771efec8",
    "slideshow": {
     "slide_type": "skip"
    }
   },
   "outputs": [
    {
     "data": {
      "text/plain": [
       "0"
      ]
     },
     "execution_count": 9,
     "metadata": {
      "tags": []
     },
     "output_type": "execute_result"
    }
   ],
   "source": [
    "#checking for null values:\n",
    "sum(bike_data.duplicated())"
   ]
  },
  {
   "cell_type": "code",
   "execution_count": 10,
   "metadata": {
    "ExecuteTime": {
     "end_time": "2020-09-06T11:51:17.634090Z",
     "start_time": "2020-09-06T11:51:17.316938Z"
    },
    "colab": {
     "base_uri": "https://localhost:8080/",
     "height": 272
    },
    "colab_type": "code",
    "executionInfo": {
     "elapsed": 20900,
     "status": "ok",
     "timestamp": 1599541502881,
     "user": {
      "displayName": "Subham Gupta",
      "photoUrl": "",
      "userId": "02241834158547853738"
     },
     "user_tz": -330
    },
    "id": "wqIYVezVf-cT",
    "outputId": "43e973e0-2cca-4386-9394-59ee6e50c17d",
    "slideshow": {
     "slide_type": "skip"
    }
   },
   "outputs": [
    {
     "data": {
      "text/plain": [
       "duration_sec                   0\n",
       "start_time                     0\n",
       "end_time                       0\n",
       "start_station_id           11771\n",
       "start_station_name         11771\n",
       "start_station_latitude         0\n",
       "start_station_longitude        0\n",
       "end_station_id             11771\n",
       "end_station_name           11771\n",
       "end_station_latitude           0\n",
       "end_station_longitude          0\n",
       "bike_id                        0\n",
       "user_type                      0\n",
       "bike_share_for_all_trip        0\n",
       "dtype: int64"
      ]
     },
     "execution_count": 10,
     "metadata": {
      "tags": []
     },
     "output_type": "execute_result"
    }
   ],
   "source": [
    "#checking for null values:\n",
    "bike_data.isnull().sum()"
   ]
  },
  {
   "cell_type": "markdown",
   "metadata": {
    "colab_type": "text",
    "id": "2WAYLvO6f-cb",
    "slideshow": {
     "slide_type": "skip"
    }
   },
   "source": [
    "###  Data Cleaning:\n",
    "<ol>\n",
    "<li>Start and end times are not in the timestamp format.</li>\n",
    "<li>The start_station_id and the end_station_id column data are not in the correct data-type, It should be of object data-type.</li>\n",
    "<li>The bike_id column should be of object data-type.</li>\n",
    "<li>Null values present in the start_station_id, start_station_name, end_station_id and end_station_name</li>\n",
    "\n",
    "</ol>"
   ]
  },
  {
   "cell_type": "code",
   "execution_count": 11,
   "metadata": {
    "ExecuteTime": {
     "end_time": "2020-09-06T11:51:19.587988Z",
     "start_time": "2020-09-06T11:51:19.499164Z"
    },
    "colab": {},
    "colab_type": "code",
    "executionInfo": {
     "elapsed": 21521,
     "status": "ok",
     "timestamp": 1599541503518,
     "user": {
      "displayName": "Subham Gupta",
      "photoUrl": "",
      "userId": "02241834158547853738"
     },
     "user_tz": -330
    },
    "id": "Yy6DSZNdf-cc",
    "slideshow": {
     "slide_type": "skip"
    }
   },
   "outputs": [],
   "source": [
    "df_clean=bike_data.copy()"
   ]
  },
  {
   "cell_type": "markdown",
   "metadata": {
    "colab_type": "text",
    "id": "FTt-Bcumf-cl",
    "slideshow": {
     "slide_type": "skip"
    }
   },
   "source": [
    "Changing start and end time to the timestamp format:"
   ]
  },
  {
   "cell_type": "code",
   "execution_count": 12,
   "metadata": {
    "ExecuteTime": {
     "end_time": "2020-09-06T11:51:23.687893Z",
     "start_time": "2020-09-06T11:51:21.165699Z"
    },
    "colab": {},
    "colab_type": "code",
    "executionInfo": {
     "elapsed": 22452,
     "status": "ok",
     "timestamp": 1599541504461,
     "user": {
      "displayName": "Subham Gupta",
      "photoUrl": "",
      "userId": "02241834158547853738"
     },
     "user_tz": -330
    },
    "id": "G8JVRHetf-cn",
    "slideshow": {
     "slide_type": "skip"
    }
   },
   "outputs": [],
   "source": [
    "df_clean.start_time=pd.to_datetime(df_clean.start_time)\n",
    "df_clean.end_time=pd.to_datetime(df_clean.end_time)\n"
   ]
  },
  {
   "cell_type": "code",
   "execution_count": 13,
   "metadata": {
    "ExecuteTime": {
     "end_time": "2020-09-06T11:51:24.116780Z",
     "start_time": "2020-09-06T11:51:23.912294Z"
    },
    "colab": {},
    "colab_type": "code",
    "executionInfo": {
     "elapsed": 22424,
     "status": "ok",
     "timestamp": 1599541504462,
     "user": {
      "displayName": "Subham Gupta",
      "photoUrl": "",
      "userId": "02241834158547853738"
     },
     "user_tz": -330
    },
    "id": "TBRkxJ6Cf-cv",
    "slideshow": {
     "slide_type": "skip"
    }
   },
   "outputs": [],
   "source": [
    "#changing the user_type data to category data-type\n",
    "df_clean.user_type=df_clean.user_type.astype('category')"
   ]
  },
  {
   "cell_type": "markdown",
   "metadata": {
    "colab_type": "text",
    "id": "0274w5HGf-c4",
    "slideshow": {
     "slide_type": "skip"
    }
   },
   "source": [
    "Changing the data-type of the start_station_id,end_station_id and the bike_id to string data-type"
   ]
  },
  {
   "cell_type": "code",
   "execution_count": 14,
   "metadata": {
    "ExecuteTime": {
     "end_time": "2020-09-06T11:51:31.770289Z",
     "start_time": "2020-09-06T11:51:29.141325Z"
    },
    "colab": {},
    "colab_type": "code",
    "executionInfo": {
     "elapsed": 25203,
     "status": "ok",
     "timestamp": 1599541507252,
     "user": {
      "displayName": "Subham Gupta",
      "photoUrl": "",
      "userId": "02241834158547853738"
     },
     "user_tz": -330
    },
    "id": "qHeLDs8cf-c6",
    "slideshow": {
     "slide_type": "skip"
    }
   },
   "outputs": [],
   "source": [
    "df_clean.start_station_id=df_clean.start_station_id.astype(str)\n",
    "df_clean.end_station_id=df_clean.end_station_id.astype(str)\n",
    "df_clean.bike_id=df_clean.bike_id.astype(str)\n"
   ]
  },
  {
   "cell_type": "code",
   "execution_count": 15,
   "metadata": {
    "ExecuteTime": {
     "end_time": "2020-09-06T11:51:32.486504Z",
     "start_time": "2020-09-06T11:51:31.932855Z"
    },
    "colab": {
     "base_uri": "https://localhost:8080/",
     "height": 374
    },
    "colab_type": "code",
    "executionInfo": {
     "elapsed": 25199,
     "status": "ok",
     "timestamp": 1599541507262,
     "user": {
      "displayName": "Subham Gupta",
      "photoUrl": "",
      "userId": "02241834158547853738"
     },
     "user_tz": -330
    },
    "id": "OCrfOJO6f-dE",
    "outputId": "9fd0422d-ab00-4222-830c-24d5cf6c2356",
    "slideshow": {
     "slide_type": "skip"
    },
    "tags": []
   },
   "outputs": [
    {
     "name": "stdout",
     "output_type": "stream",
     "text": [
      "<class 'pandas.core.frame.DataFrame'>\n",
      "RangeIndex: 1863721 entries, 0 to 1863720\n",
      "Data columns (total 14 columns):\n",
      " #   Column                   Dtype         \n",
      "---  ------                   -----         \n",
      " 0   duration_sec             int64         \n",
      " 1   start_time               datetime64[ns]\n",
      " 2   end_time                 datetime64[ns]\n",
      " 3   start_station_id         object        \n",
      " 4   start_station_name       object        \n",
      " 5   start_station_latitude   float64       \n",
      " 6   start_station_longitude  float64       \n",
      " 7   end_station_id           object        \n",
      " 8   end_station_name         object        \n",
      " 9   end_station_latitude     float64       \n",
      " 10  end_station_longitude    float64       \n",
      " 11  bike_id                  object        \n",
      " 12  user_type                category      \n",
      " 13  bike_share_for_all_trip  object        \n",
      "dtypes: category(1), datetime64[ns](2), float64(4), int64(1), object(6)\n",
      "memory usage: 186.6+ MB\n"
     ]
    }
   ],
   "source": [
    "df_clean.info()"
   ]
  },
  {
   "cell_type": "code",
   "execution_count": 16,
   "metadata": {
    "colab": {
     "base_uri": "https://localhost:8080/",
     "height": 272
    },
    "colab_type": "code",
    "executionInfo": {
     "elapsed": 25855,
     "status": "ok",
     "timestamp": 1599541507937,
     "user": {
      "displayName": "Subham Gupta",
      "photoUrl": "",
      "userId": "02241834158547853738"
     },
     "user_tz": -330
    },
    "id": "phq0qBbsu27a",
    "outputId": "f697ec82-d7c0-4c13-f647-53264bc0bd47",
    "slideshow": {
     "slide_type": "skip"
    }
   },
   "outputs": [
    {
     "data": {
      "text/plain": [
       "duration_sec                   0\n",
       "start_time                     0\n",
       "end_time                       0\n",
       "start_station_id               0\n",
       "start_station_name         11771\n",
       "start_station_latitude         0\n",
       "start_station_longitude        0\n",
       "end_station_id                 0\n",
       "end_station_name           11771\n",
       "end_station_latitude           0\n",
       "end_station_longitude          0\n",
       "bike_id                        0\n",
       "user_type                      0\n",
       "bike_share_for_all_trip        0\n",
       "dtype: int64"
      ]
     },
     "execution_count": 16,
     "metadata": {
      "tags": []
     },
     "output_type": "execute_result"
    }
   ],
   "source": [
    "df_clean.isnull().sum()"
   ]
  },
  {
   "cell_type": "markdown",
   "metadata": {
    "colab_type": "text",
    "id": "181pmuaPw5yM",
    "slideshow": {
     "slide_type": "skip"
    }
   },
   "source": [
    "It look's like there are null values present in the start and end station names, which is not much important in my search area so I am going to drop these values."
   ]
  },
  {
   "cell_type": "code",
   "execution_count": 17,
   "metadata": {
    "colab": {},
    "colab_type": "code",
    "executionInfo": {
     "elapsed": 26604,
     "status": "ok",
     "timestamp": 1599541508702,
     "user": {
      "displayName": "Subham Gupta",
      "photoUrl": "",
      "userId": "02241834158547853738"
     },
     "user_tz": -330
    },
    "id": "rJHNx1XGvNf5",
    "slideshow": {
     "slide_type": "skip"
    }
   },
   "outputs": [],
   "source": [
    "df_clean.dropna(inplace=True)"
   ]
  },
  {
   "cell_type": "code",
   "execution_count": 18,
   "metadata": {
    "colab": {
     "base_uri": "https://localhost:8080/",
     "height": 272
    },
    "colab_type": "code",
    "executionInfo": {
     "elapsed": 27120,
     "status": "ok",
     "timestamp": 1599541509235,
     "user": {
      "displayName": "Subham Gupta",
      "photoUrl": "",
      "userId": "02241834158547853738"
     },
     "user_tz": -330
    },
    "id": "Yc7TtkCevQsj",
    "outputId": "a96004d9-0e7c-4f73-8ef9-b71a9453d1f6",
    "slideshow": {
     "slide_type": "skip"
    }
   },
   "outputs": [
    {
     "data": {
      "text/plain": [
       "duration_sec               0\n",
       "start_time                 0\n",
       "end_time                   0\n",
       "start_station_id           0\n",
       "start_station_name         0\n",
       "start_station_latitude     0\n",
       "start_station_longitude    0\n",
       "end_station_id             0\n",
       "end_station_name           0\n",
       "end_station_latitude       0\n",
       "end_station_longitude      0\n",
       "bike_id                    0\n",
       "user_type                  0\n",
       "bike_share_for_all_trip    0\n",
       "dtype: int64"
      ]
     },
     "execution_count": 18,
     "metadata": {
      "tags": []
     },
     "output_type": "execute_result"
    }
   ],
   "source": [
    "df_clean.isnull().sum()\n"
   ]
  },
  {
   "cell_type": "code",
   "execution_count": 19,
   "metadata": {
    "colab": {
     "base_uri": "https://localhost:8080/",
     "height": 34
    },
    "colab_type": "code",
    "executionInfo": {
     "elapsed": 27104,
     "status": "ok",
     "timestamp": 1599541509238,
     "user": {
      "displayName": "Subham Gupta",
      "photoUrl": "",
      "userId": "02241834158547853738"
     },
     "user_tz": -330
    },
    "id": "xWRaDB68vsfU",
    "outputId": "761a8178-99a5-45bb-bade-0cb0fe17c3df",
    "slideshow": {
     "slide_type": "skip"
    }
   },
   "outputs": [
    {
     "data": {
      "text/plain": [
       "(1851950, 14)"
      ]
     },
     "execution_count": 19,
     "metadata": {
      "tags": []
     },
     "output_type": "execute_result"
    }
   ],
   "source": [
    "df_clean.shape"
   ]
  },
  {
   "cell_type": "markdown",
   "metadata": {
    "colab_type": "text",
    "id": "beIA5WKxf-dK",
    "slideshow": {
     "slide_type": "skip"
    }
   },
   "source": [
    "## DATA WRANGLING in-depth"
   ]
  },
  {
   "cell_type": "markdown",
   "metadata": {
    "colab_type": "text",
    "id": "r_W0tP5Bf-dM",
    "slideshow": {
     "slide_type": "skip"
    }
   },
   "source": [
    "Define:\n",
    "Creating month/weekday/hour columns related to the start_time of the ride."
   ]
  },
  {
   "cell_type": "code",
   "execution_count": 20,
   "metadata": {
    "ExecuteTime": {
     "end_time": "2020-09-06T11:51:51.646736Z",
     "start_time": "2020-09-06T11:51:32.667891Z"
    },
    "colab": {},
    "colab_type": "code",
    "executionInfo": {
     "elapsed": 43639,
     "status": "ok",
     "timestamp": 1599541525809,
     "user": {
      "displayName": "Subham Gupta",
      "photoUrl": "",
      "userId": "02241834158547853738"
     },
     "user_tz": -330
    },
    "id": "Aq1efnskf-dN",
    "slideshow": {
     "slide_type": "skip"
    }
   },
   "outputs": [],
   "source": [
    "#code:\n",
    "#start_time_month:(January-December)\n",
    "df_clean['start_time_month'] = df_clean['start_time'].dt.strftime('%B')\n",
    "#start_time_month:(1-12)\n",
    "df_clean['start_time_month_num'] = df_clean['start_time'].dt.month.astype(int)\n",
    "#start_time_weekday:\n",
    "df_clean['start_time_day'] = df_clean['start_time'].dt.strftime('%a')\n"
   ]
  },
  {
   "cell_type": "code",
   "execution_count": 21,
   "metadata": {
    "ExecuteTime": {
     "end_time": "2020-09-06T11:51:51.976856Z",
     "start_time": "2020-09-06T11:51:51.844842Z"
    },
    "colab": {},
    "colab_type": "code",
    "executionInfo": {
     "elapsed": 43631,
     "status": "ok",
     "timestamp": 1599541525813,
     "user": {
      "displayName": "Subham Gupta",
      "photoUrl": "",
      "userId": "02241834158547853738"
     },
     "user_tz": -330
    },
    "id": "JtQvzcChf-dX",
    "slideshow": {
     "slide_type": "skip"
    }
   },
   "outputs": [],
   "source": [
    "#creating start_time_hour column from the start_time column:\n",
    "df_clean['start_time_hour'] = df_clean['start_time'].dt.hour"
   ]
  },
  {
   "cell_type": "code",
   "execution_count": 22,
   "metadata": {
    "ExecuteTime": {
     "end_time": "2020-09-06T11:51:52.312953Z",
     "start_time": "2020-09-06T11:51:52.179312Z"
    },
    "colab": {},
    "colab_type": "code",
    "executionInfo": {
     "elapsed": 43621,
     "status": "ok",
     "timestamp": 1599541525814,
     "user": {
      "displayName": "Subham Gupta",
      "photoUrl": "",
      "userId": "02241834158547853738"
     },
     "user_tz": -330
    },
    "id": "ERClVgysf-de",
    "slideshow": {
     "slide_type": "skip"
    }
   },
   "outputs": [],
   "source": [
    "#creating end_time_hour column from end_time column:\n",
    "df_clean['end_time_hour'] = df_clean['end_time'].dt.hour"
   ]
  },
  {
   "cell_type": "code",
   "execution_count": 23,
   "metadata": {
    "ExecuteTime": {
     "end_time": "2020-09-06T11:51:55.759732Z",
     "start_time": "2020-09-06T11:51:55.736794Z"
    },
    "colab": {
     "base_uri": "https://localhost:8080/",
     "height": 68
    },
    "colab_type": "code",
    "executionInfo": {
     "elapsed": 43607,
     "status": "ok",
     "timestamp": 1599541525815,
     "user": {
      "displayName": "Subham Gupta",
      "photoUrl": "",
      "userId": "02241834158547853738"
     },
     "user_tz": -330
    },
    "id": "YfLS49O1f-dm",
    "outputId": "b7ac901a-3f82-4eb3-d645-0283fce7f681",
    "slideshow": {
     "slide_type": "skip"
    }
   },
   "outputs": [
    {
     "data": {
      "text/plain": [
       "Subscriber    1574991\n",
       "Customer       276959\n",
       "Name: user_type, dtype: int64"
      ]
     },
     "execution_count": 23,
     "metadata": {
      "tags": []
     },
     "output_type": "execute_result"
    }
   ],
   "source": [
    "df_clean.user_type.value_counts()"
   ]
  },
  {
   "cell_type": "markdown",
   "metadata": {
    "colab_type": "text",
    "id": "2I2uh5inf-dv",
    "slideshow": {
     "slide_type": "skip"
    }
   },
   "source": [
    "Define: Changing the duration of ride in seconds to minutes"
   ]
  },
  {
   "cell_type": "code",
   "execution_count": 24,
   "metadata": {
    "ExecuteTime": {
     "end_time": "2020-09-06T11:51:58.749736Z",
     "start_time": "2020-09-06T11:51:58.308913Z"
    },
    "colab": {},
    "colab_type": "code",
    "executionInfo": {
     "elapsed": 44031,
     "status": "ok",
     "timestamp": 1599541526257,
     "user": {
      "displayName": "Subham Gupta",
      "photoUrl": "",
      "userId": "02241834158547853738"
     },
     "user_tz": -330
    },
    "id": "u7U7w_g5f-dw",
    "slideshow": {
     "slide_type": "skip"
    }
   },
   "outputs": [],
   "source": [
    "df_clean['duration_min']=df_clean['duration_sec']/60\n",
    "df_clean['duration_min']=df_clean['duration_min'].astype(int)"
   ]
  },
  {
   "cell_type": "markdown",
   "metadata": {
    "colab_type": "text",
    "id": "C4k5oxo1f-d4",
    "slideshow": {
     "slide_type": "skip"
    }
   },
   "source": [
    "Test:\n"
   ]
  },
  {
   "cell_type": "code",
   "execution_count": 25,
   "metadata": {
    "ExecuteTime": {
     "end_time": "2020-09-06T11:52:01.432280Z",
     "start_time": "2020-09-06T11:52:00.902973Z"
    },
    "colab": {
     "base_uri": "https://localhost:8080/",
     "height": 343
    },
    "colab_type": "code",
    "executionInfo": {
     "elapsed": 44965,
     "status": "ok",
     "timestamp": 1599541527215,
     "user": {
      "displayName": "Subham Gupta",
      "photoUrl": "",
      "userId": "02241834158547853738"
     },
     "user_tz": -330
    },
    "id": "PNVe60zLf-d5",
    "outputId": "b2efbbe9-f021-4b19-a51c-8cd925f1cdb2",
    "slideshow": {
     "slide_type": "skip"
    }
   },
   "outputs": [
    {
     "data": {
      "text/html": [
       "<div>\n",
       "<style scoped>\n",
       "    .dataframe tbody tr th:only-of-type {\n",
       "        vertical-align: middle;\n",
       "    }\n",
       "\n",
       "    .dataframe tbody tr th {\n",
       "        vertical-align: top;\n",
       "    }\n",
       "\n",
       "    .dataframe thead th {\n",
       "        text-align: right;\n",
       "    }\n",
       "</style>\n",
       "<table border=\"1\" class=\"dataframe\">\n",
       "  <thead>\n",
       "    <tr style=\"text-align: right;\">\n",
       "      <th></th>\n",
       "      <th>duration_sec</th>\n",
       "      <th>start_time</th>\n",
       "      <th>end_time</th>\n",
       "      <th>start_station_id</th>\n",
       "      <th>start_station_name</th>\n",
       "      <th>start_station_latitude</th>\n",
       "      <th>start_station_longitude</th>\n",
       "      <th>end_station_id</th>\n",
       "      <th>end_station_name</th>\n",
       "      <th>end_station_latitude</th>\n",
       "      <th>end_station_longitude</th>\n",
       "      <th>bike_id</th>\n",
       "      <th>user_type</th>\n",
       "      <th>bike_share_for_all_trip</th>\n",
       "      <th>start_time_month</th>\n",
       "      <th>start_time_month_num</th>\n",
       "      <th>start_time_day</th>\n",
       "      <th>start_time_hour</th>\n",
       "      <th>end_time_hour</th>\n",
       "      <th>duration_min</th>\n",
       "    </tr>\n",
       "  </thead>\n",
       "  <tbody>\n",
       "    <tr>\n",
       "      <th>717044</th>\n",
       "      <td>380</td>\n",
       "      <td>2018-06-17 05:49:05.472</td>\n",
       "      <td>2018-06-17 05:55:26.463</td>\n",
       "      <td>61.0</td>\n",
       "      <td>Howard St at 8th St</td>\n",
       "      <td>37.776513</td>\n",
       "      <td>-122.411306</td>\n",
       "      <td>116.0</td>\n",
       "      <td>Mississippi St at 17th St</td>\n",
       "      <td>37.764802</td>\n",
       "      <td>-122.394771</td>\n",
       "      <td>3798</td>\n",
       "      <td>Subscriber</td>\n",
       "      <td>No</td>\n",
       "      <td>June</td>\n",
       "      <td>6</td>\n",
       "      <td>Sun</td>\n",
       "      <td>5</td>\n",
       "      <td>5</td>\n",
       "      <td>6</td>\n",
       "    </tr>\n",
       "    <tr>\n",
       "      <th>233200</th>\n",
       "      <td>2333</td>\n",
       "      <td>2018-03-24 13:57:58.566</td>\n",
       "      <td>2018-03-24 14:36:52.501</td>\n",
       "      <td>49.0</td>\n",
       "      <td>S Park St at 3rd St</td>\n",
       "      <td>37.780760</td>\n",
       "      <td>-122.394989</td>\n",
       "      <td>121.0</td>\n",
       "      <td>Mission Playground</td>\n",
       "      <td>37.759210</td>\n",
       "      <td>-122.421339</td>\n",
       "      <td>1733</td>\n",
       "      <td>Customer</td>\n",
       "      <td>No</td>\n",
       "      <td>March</td>\n",
       "      <td>3</td>\n",
       "      <td>Sat</td>\n",
       "      <td>13</td>\n",
       "      <td>14</td>\n",
       "      <td>38</td>\n",
       "    </tr>\n",
       "    <tr>\n",
       "      <th>1533163</th>\n",
       "      <td>217</td>\n",
       "      <td>2018-10-10 16:36:36.807</td>\n",
       "      <td>2018-10-10 16:40:14.041</td>\n",
       "      <td>126.0</td>\n",
       "      <td>Esprit Park</td>\n",
       "      <td>37.761634</td>\n",
       "      <td>-122.390648</td>\n",
       "      <td>104.0</td>\n",
       "      <td>4th St at 16th St</td>\n",
       "      <td>37.767045</td>\n",
       "      <td>-122.390833</td>\n",
       "      <td>1837</td>\n",
       "      <td>Subscriber</td>\n",
       "      <td>No</td>\n",
       "      <td>October</td>\n",
       "      <td>10</td>\n",
       "      <td>Wed</td>\n",
       "      <td>16</td>\n",
       "      <td>16</td>\n",
       "      <td>3</td>\n",
       "    </tr>\n",
       "    <tr>\n",
       "      <th>1138435</th>\n",
       "      <td>1907</td>\n",
       "      <td>2018-08-12 15:38:00.718</td>\n",
       "      <td>2018-08-12 16:09:47.852</td>\n",
       "      <td>223.0</td>\n",
       "      <td>16th St Mission BART Station 2</td>\n",
       "      <td>37.764765</td>\n",
       "      <td>-122.420091</td>\n",
       "      <td>139.0</td>\n",
       "      <td>Garfield Square (25th St at Harrison St)</td>\n",
       "      <td>37.751017</td>\n",
       "      <td>-122.411901</td>\n",
       "      <td>1711</td>\n",
       "      <td>Customer</td>\n",
       "      <td>No</td>\n",
       "      <td>August</td>\n",
       "      <td>8</td>\n",
       "      <td>Sun</td>\n",
       "      <td>15</td>\n",
       "      <td>16</td>\n",
       "      <td>31</td>\n",
       "    </tr>\n",
       "    <tr>\n",
       "      <th>1532628</th>\n",
       "      <td>305</td>\n",
       "      <td>2018-10-10 17:18:49.341</td>\n",
       "      <td>2018-10-10 17:23:54.689</td>\n",
       "      <td>6.0</td>\n",
       "      <td>The Embarcadero at Sansome St</td>\n",
       "      <td>37.804770</td>\n",
       "      <td>-122.403234</td>\n",
       "      <td>15.0</td>\n",
       "      <td>San Francisco Ferry Building (Harry Bridges Pl...</td>\n",
       "      <td>37.795392</td>\n",
       "      <td>-122.394203</td>\n",
       "      <td>3184</td>\n",
       "      <td>Subscriber</td>\n",
       "      <td>No</td>\n",
       "      <td>October</td>\n",
       "      <td>10</td>\n",
       "      <td>Wed</td>\n",
       "      <td>17</td>\n",
       "      <td>17</td>\n",
       "      <td>5</td>\n",
       "    </tr>\n",
       "  </tbody>\n",
       "</table>\n",
       "</div>"
      ],
      "text/plain": [
       "         duration_sec              start_time  ... end_time_hour duration_min\n",
       "717044            380 2018-06-17 05:49:05.472  ...             5            6\n",
       "233200           2333 2018-03-24 13:57:58.566  ...            14           38\n",
       "1533163           217 2018-10-10 16:36:36.807  ...            16            3\n",
       "1138435          1907 2018-08-12 15:38:00.718  ...            16           31\n",
       "1532628           305 2018-10-10 17:18:49.341  ...            17            5\n",
       "\n",
       "[5 rows x 20 columns]"
      ]
     },
     "execution_count": 25,
     "metadata": {
      "tags": []
     },
     "output_type": "execute_result"
    }
   ],
   "source": [
    "df_clean.sample(5)"
   ]
  },
  {
   "cell_type": "markdown",
   "metadata": {
    "colab_type": "text",
    "id": "PF5xjl7Df-d_",
    "slideshow": {
     "slide_type": "skip"
    }
   },
   "source": [
    "DEFINE: Calculating the total distance travelled using the latitude and the longitude data in the dataset.\n"
   ]
  },
  {
   "cell_type": "code",
   "execution_count": 26,
   "metadata": {
    "ExecuteTime": {
     "end_time": "2020-09-06T11:52:04.852458Z",
     "start_time": "2020-09-06T11:52:04.839444Z"
    },
    "colab": {},
    "colab_type": "code",
    "executionInfo": {
     "elapsed": 44942,
     "status": "ok",
     "timestamp": 1599541527217,
     "user": {
      "displayName": "Subham Gupta",
      "photoUrl": "",
      "userId": "02241834158547853738"
     },
     "user_tz": -330
    },
    "id": "Jj6iwMdhf-eA",
    "slideshow": {
     "slide_type": "skip"
    }
   },
   "outputs": [],
   "source": [
    "#code:\n",
    "import math\n",
    "from math import radians, sin, cos, acos\n",
    "\n",
    "def dist(origin, destination):\n",
    "\n",
    "    lat1, long1 = origin\n",
    "    lat2, long2 = destination\n",
    "    radius = 6371\n",
    "    # this is in kilometers\n",
    "\n",
    "    dlat = math.radians(lat2 - lat1)\n",
    "    dlong = math.radians(long2 - long1)\n",
    "    \n",
    "    a = (math.sin(dlat / 2) * math.sin(dlat / 2) + math.cos(math.radians(lat1)) * math.cos(math.radians(lat2)) * math.sin(dlong / 2) * math.sin(dlong / 2))\n",
    "    c = 2 * math.atan2(math.sqrt(a), math.sqrt(1 - a))\n",
    "    d = radius * c\n",
    "\n",
    "    return d"
   ]
  },
  {
   "cell_type": "code",
   "execution_count": 27,
   "metadata": {
    "ExecuteTime": {
     "end_time": "2020-09-06T11:55:21.507144Z",
     "start_time": "2020-09-06T11:52:06.762354Z"
    },
    "colab": {},
    "colab_type": "code",
    "executionInfo": {
     "elapsed": 319345,
     "status": "ok",
     "timestamp": 1599541801640,
     "user": {
      "displayName": "Subham Gupta",
      "photoUrl": "",
      "userId": "02241834158547853738"
     },
     "user_tz": -330
    },
    "id": "RjTqGu2Bf-eI",
    "slideshow": {
     "slide_type": "skip"
    }
   },
   "outputs": [],
   "source": [
    "#creating column named distance_km to store total distance travelled based on latitude and longitude\n",
    "df_clean['distance_km'] = df_clean.apply(lambda x: dist((x['start_station_latitude'], x['start_station_longitude']), (x['end_station_latitude'], x['end_station_longitude'])), axis=1)"
   ]
  },
  {
   "cell_type": "code",
   "execution_count": 28,
   "metadata": {
    "ExecuteTime": {
     "end_time": "2020-09-06T11:55:22.253149Z",
     "start_time": "2020-09-06T11:55:21.743592Z"
    },
    "colab": {
     "base_uri": "https://localhost:8080/",
     "height": 493
    },
    "colab_type": "code",
    "executionInfo": {
     "elapsed": 319339,
     "status": "ok",
     "timestamp": 1599541801654,
     "user": {
      "displayName": "Subham Gupta",
      "photoUrl": "",
      "userId": "02241834158547853738"
     },
     "user_tz": -330
    },
    "id": "Q6GewfSrf-eN",
    "outputId": "4b7c7b22-47fd-422e-f6bd-9a1781fcb038",
    "slideshow": {
     "slide_type": "skip"
    },
    "tags": []
   },
   "outputs": [
    {
     "name": "stdout",
     "output_type": "stream",
     "text": [
      "<class 'pandas.core.frame.DataFrame'>\n",
      "Int64Index: 1851950 entries, 0 to 1863720\n",
      "Data columns (total 21 columns):\n",
      " #   Column                   Dtype         \n",
      "---  ------                   -----         \n",
      " 0   duration_sec             int64         \n",
      " 1   start_time               datetime64[ns]\n",
      " 2   end_time                 datetime64[ns]\n",
      " 3   start_station_id         object        \n",
      " 4   start_station_name       object        \n",
      " 5   start_station_latitude   float64       \n",
      " 6   start_station_longitude  float64       \n",
      " 7   end_station_id           object        \n",
      " 8   end_station_name         object        \n",
      " 9   end_station_latitude     float64       \n",
      " 10  end_station_longitude    float64       \n",
      " 11  bike_id                  object        \n",
      " 12  user_type                category      \n",
      " 13  bike_share_for_all_trip  object        \n",
      " 14  start_time_month         object        \n",
      " 15  start_time_month_num     int64         \n",
      " 16  start_time_day           object        \n",
      " 17  start_time_hour          int64         \n",
      " 18  end_time_hour            int64         \n",
      " 19  duration_min             int64         \n",
      " 20  distance_km              float64       \n",
      "dtypes: category(1), datetime64[ns](2), float64(5), int64(5), object(8)\n",
      "memory usage: 298.5+ MB\n"
     ]
    }
   ],
   "source": [
    "df_clean.info()"
   ]
  },
  {
   "cell_type": "markdown",
   "metadata": {
    "slideshow": {
     "slide_type": "notes"
    }
   },
   "source": [
    "> Note that the above cells have been kept as skip-type cells and won't be showing up when the notebook is rendered as slides."
   ]
  },
  {
   "cell_type": "markdown",
   "metadata": {
    "colab_type": "text",
    "id": "Ozm8gko2f-eU",
    "slideshow": {
     "slide_type": "slide"
    }
   },
   "source": [
    "###  What is the structure of your dataset?\n",
    "> The FordGoBike dataset has over 1863721 data-points related to each bike ride happened in the months of Jan-Dec 2018.The data is efficitevely collected and providing a collection of important data to work for and draw conclusions. There were some null values in the start and end station names and id's, which was removed programatically and thus the final cleaned dataset has 1851950 rows of data related to bike-rides happened in 2018\n",
    "\n",
    "\n",
    " "
   ]
  },
  {
   "cell_type": "markdown",
   "metadata": {
    "slideshow": {
     "slide_type": "slide"
    }
   },
   "source": [
    "#### The Structure of the dataset is as follows:\n",
    "<ul>\n",
    "<li>Trip Duration:\n",
    "    <ul>\n",
    "        <li>Start time and date: The time when the ride begins.</li>\n",
    "        <li>End time and date: The time when the ride ends.</li>\n",
    "    </ul>\n",
    "</li>\n",
    "<li>Starting Station Details:\n",
    "    <ul>\n",
    "        <li>Start station id: The unique Id of the station where the ride begins.</li>\n",
    "        <li>Start station name: The name of the station where the ride begins.</li>\n",
    "        <li>Start station latitude: The latitudinal position of the bike when the ride begins.</li>\n",
    "        <li>Start station longitude: The longitudinal position of the bike when the ride begins.</li>\n",
    "    </ul>\n",
    "</li>\n",
    "<li>End Station Details:\n",
    "    <ul>\n",
    "        <li>End station id: The unique Id of the station where the ride ends.</li>\n",
    "        <li>End station name: The name of the station where the ride ends.</li>\n",
    "        <li>End station latitude: The latitudinal position of the bike when the ride ends.</li>\n",
    "        <li>End station longitude: The latitudinal position of the bike when the ride ends.</li>\n",
    "    </ul>\n",
    "</li>\n",
    "<li>Bike Details:\n",
    "    <ul>\n",
    "        <li>Bike Id: The unique Id of the bike.</li>\n",
    "    </ul>\n",
    "</li>\n",
    "<li>User Details:\n",
    "    <ul>\n",
    "        <li>User Type: Information about the user being a Subscriber or a Regular User. </li>\n",
    "    </ul>\n",
    "</li>\n",
    "</ul>"
   ]
  },
  {
   "cell_type": "markdown",
   "metadata": {
    "slideshow": {
     "slide_type": "slide"
    }
   },
   "source": [
    "#### The columns that was added later for better analysis to the original dataset:\n",
    "<ul>\n",
    "<li>Start time month: The month in which the ride began.</li>\n",
    "<li>Start time month number: The numerical data of the start time month.</li>\n",
    "<li>Start time day: The day on which the ride began.</li>\n",
    "<li>Start time hour: Information regarding the time in hours when the ride begins.</li>\n",
    "<li>End time hour: Information regarding the time in hours when the ride ends.</li>\n",
    "<li>Duration min: The total duration of the ride in minutes.</li>\n",
    "<li>Duration km: The total distance of the ride in kilometers.</li>\n",
    "\n",
    "</ul>"
   ]
  },
  {
   "cell_type": "markdown",
   "metadata": {
    "slideshow": {
     "slide_type": "slide"
    }
   },
   "source": [
    "###  What is/are the main feature(s) of interest in your dataset?\n",
    "\n",
    "> The main features that are of key interest are the start and end time related data of the bike-rides, which would lead to better understand the timings when the bikes are in high demand as well as the timings when the bikes are in least demand- where the company can throw some exciting offers to get the users riding their bikes.\n",
    "\n",
    "> The starting and ending station data will be useful to gather important insights on which route is mostly used by the users or which stations are frequently vsited by using which we can improve the service on those stations and providing good experience to our users.\n",
    "\n",
    "> Another key area of interest is the duration of the ride by using which we can estimate on average how ong a ride usually lasts, using which we can throw interesting offers to the users so as to increase the ride duration and hence generate more revenue for the company.\n"
   ]
  },
  {
   "cell_type": "markdown",
   "metadata": {
    "slideshow": {
     "slide_type": "slide"
    }
   },
   "source": [
    "###  What features in the dataset do you think will help support your investigation into your feature(s) of interest?\n",
    "\n",
    "I'll start by looking at the distribution of the main variable of interest: The start and end times and other time related information. Also I'll be looking into the duration and distance related data for getting the insight on ride coverage area and more.\n"
   ]
  },
  {
   "cell_type": "markdown",
   "metadata": {
    "colab_type": "text",
    "id": "afxMnpY6f-eV",
    "slideshow": {
     "slide_type": "skip"
    }
   },
   "source": [
    "---------------------------------------------------------------------------------------------------------------------------"
   ]
  },
  {
   "cell_type": "markdown",
   "metadata": {
    "colab_type": "text",
    "id": "qs-3hTZ2f-eX",
    "slideshow": {
     "slide_type": "slide"
    }
   },
   "source": [
    "<a id='univariate'></a>\n",
    "##  Univariate Exploration\n",
    "\n",
    "> In this section, I investigate distributions of individual variables. This will intern prepare for visualization of one or more variables and their relationships."
   ]
  },
  {
   "cell_type": "code",
   "execution_count": 29,
   "metadata": {
    "ExecuteTime": {
     "end_time": "2020-09-06T11:55:22.438655Z",
     "start_time": "2020-09-06T11:55:22.432668Z"
    },
    "colab": {},
    "colab_type": "code",
    "executionInfo": {
     "elapsed": 319323,
     "status": "ok",
     "timestamp": 1599541801656,
     "user": {
      "displayName": "Subham Gupta",
      "photoUrl": "",
      "userId": "02241834158547853738"
     },
     "user_tz": -330
    },
    "id": "D0xYpoCYf-eY",
    "slideshow": {
     "slide_type": "skip"
    }
   },
   "outputs": [],
   "source": [
    "base_color=sns.color_palette()[0]"
   ]
  },
  {
   "cell_type": "code",
   "execution_count": 30,
   "metadata": {
    "colab": {
     "base_uri": "https://localhost:8080/",
     "height": 493
    },
    "colab_type": "code",
    "executionInfo": {
     "elapsed": 319310,
     "status": "ok",
     "timestamp": 1599541801658,
     "user": {
      "displayName": "Subham Gupta",
      "photoUrl": "",
      "userId": "02241834158547853738"
     },
     "user_tz": -330
    },
    "id": "A8CxjDQM4CE0",
    "outputId": "13e3e07f-f55f-407f-c12d-0a8578786039",
    "slideshow": {
     "slide_type": "skip"
    }
   },
   "outputs": [
    {
     "name": "stdout",
     "output_type": "stream",
     "text": [
      "<class 'pandas.core.frame.DataFrame'>\n",
      "Int64Index: 1851950 entries, 0 to 1863720\n",
      "Data columns (total 21 columns):\n",
      " #   Column                   Dtype         \n",
      "---  ------                   -----         \n",
      " 0   duration_sec             int64         \n",
      " 1   start_time               datetime64[ns]\n",
      " 2   end_time                 datetime64[ns]\n",
      " 3   start_station_id         object        \n",
      " 4   start_station_name       object        \n",
      " 5   start_station_latitude   float64       \n",
      " 6   start_station_longitude  float64       \n",
      " 7   end_station_id           object        \n",
      " 8   end_station_name         object        \n",
      " 9   end_station_latitude     float64       \n",
      " 10  end_station_longitude    float64       \n",
      " 11  bike_id                  object        \n",
      " 12  user_type                category      \n",
      " 13  bike_share_for_all_trip  object        \n",
      " 14  start_time_month         object        \n",
      " 15  start_time_month_num     int64         \n",
      " 16  start_time_day           object        \n",
      " 17  start_time_hour          int64         \n",
      " 18  end_time_hour            int64         \n",
      " 19  duration_min             int64         \n",
      " 20  distance_km              float64       \n",
      "dtypes: category(1), datetime64[ns](2), float64(5), int64(5), object(8)\n",
      "memory usage: 298.5+ MB\n"
     ]
    }
   ],
   "source": [
    "df_clean.info()"
   ]
  },
  {
   "cell_type": "code",
   "execution_count": 31,
   "metadata": {
    "ExecuteTime": {
     "end_time": "2020-09-06T11:55:22.866507Z",
     "start_time": "2020-09-06T11:55:22.650087Z"
    },
    "colab": {
     "base_uri": "https://localhost:8080/",
     "height": 102
    },
    "colab_type": "code",
    "executionInfo": {
     "elapsed": 319653,
     "status": "ok",
     "timestamp": 1599541802023,
     "user": {
      "displayName": "Subham Gupta",
      "photoUrl": "",
      "userId": "02241834158547853738"
     },
     "user_tz": -330
    },
    "id": "iIAzOFyHf-ed",
    "outputId": "e64463d1-eadb-49fa-9e44-1d78be45d986",
    "slideshow": {
     "slide_type": "skip"
    }
   },
   "outputs": [
    {
     "data": {
      "text/plain": [
       "count     1851950\n",
       "unique         12\n",
       "top       October\n",
       "freq       200102\n",
       "Name: start_time_month, dtype: object"
      ]
     },
     "execution_count": 31,
     "metadata": {
      "tags": []
     },
     "output_type": "execute_result"
    }
   ],
   "source": [
    "#lets look into the monthly FordGoBike rides\n",
    "df_clean.start_time_month.describe()"
   ]
  },
  {
   "cell_type": "markdown",
   "metadata": {
    "colab_type": "text",
    "id": "pJkd8S4buS7Z",
    "slideshow": {
     "slide_type": "slide"
    }
   },
   "source": [
    "### Observation 1: October has the most plesant weather to ride a bike in San-Francisco\n",
    "> It should not be a surprise to see the late-summers and early-autumn months beign the most popular times of using the FordGoBike systems. **October has the most number of rides in a month followed by July and June.** The weather usually stays sunny during the mid-autumn and then becomes full of fog during the late-autumn and early winters.Thus making it a good weather to go biking around the city."
   ]
  },
  {
   "cell_type": "code",
   "execution_count": 32,
   "metadata": {
    "ExecuteTime": {
     "start_time": "2020-09-06T11:52:43.306Z"
    },
    "colab": {
     "base_uri": "https://localhost:8080/",
     "height": 442
    },
    "colab_type": "code",
    "executionInfo": {
     "elapsed": 335260,
     "status": "ok",
     "timestamp": 1599541817650,
     "user": {
      "displayName": "Subham Gupta",
      "photoUrl": "",
      "userId": "02241834158547853738"
     },
     "user_tz": -330
    },
    "id": "_GCu5lDaf-en",
    "outputId": "ba1ba5d7-d1f6-4eea-beff-3ad80bc0948f",
    "slideshow": {
     "slide_type": "subslide"
    }
   },
   "outputs": [
    {
     "data": {
      "text/plain": [
       "<seaborn.axisgrid.FacetGrid at 0x7fefd59750f0>"
      ]
     },
     "execution_count": 32,
     "metadata": {
      "tags": []
     },
     "output_type": "execute_result"
    },
    {
     "data": {
      "image/png": "[encoded data removed]",
      "text/plain": [
       "<Figure size 612x360 with 1 Axes>"
      ]
     },
     "metadata": {
      "needs_background": "light",
      "tags": []
     },
     "output_type": "display_data"
    }
   ],
   "source": [
    "#monthly usage of the FordGoBikes visualization:\n",
    "graph=sns.catplot(data=df_clean,x='start_time_month',kind='count',color=base_color,aspect=1.7);\n",
    "graph.set_axis_labels('Months','Number of Bike Trips');\n",
    "graph.fig.suptitle('FordGoBike usage by month',y=1.0,fontweight='bold',fontsize=15);\n",
    "graph.set_xticklabels(rotation=75);"
   ]
  },
  {
   "cell_type": "markdown",
   "metadata": {
    "colab_type": "text",
    "id": "bIRdAFSYuYVN",
    "slideshow": {
     "slide_type": "slide"
    }
   },
   "source": [
    "### Observation 2: People don't go for party on weekdays\n",
    "> **From the plot it is clear that tuesday and wednesday are the two days when the bike sharing system is used mostly,followed by thursday, friday and monday**. The graph shows that people used the FordGoBike systems much lesser on the weekends which leaves a clue that the bike-sharing system is mostly used for commuting purpose and formal works."
   ]
  },
  {
   "cell_type": "code",
   "execution_count": 33,
   "metadata": {
    "ExecuteTime": {
     "start_time": "2020-09-06T11:56:37.880Z"
    },
    "colab": {
     "base_uri": "https://localhost:8080/",
     "height": 411
    },
    "colab_type": "code",
    "executionInfo": {
     "elapsed": 351013,
     "status": "ok",
     "timestamp": 1599541833423,
     "user": {
      "displayName": "Subham Gupta",
      "photoUrl": "",
      "userId": "02241834158547853738"
     },
     "user_tz": -330
    },
    "id": "TL6gWtihf-es",
    "outputId": "19f03dfa-11ba-4817-a38b-d0cac542991b",
    "slideshow": {
     "slide_type": "subslide"
    }
   },
   "outputs": [
    {
     "data": {
      "image/png": "[encoded data removed]",
      "text/plain": [
       "<Figure size 360x360 with 1 Axes>"
      ]
     },
     "metadata": {
      "needs_background": "light",
      "tags": []
     },
     "output_type": "display_data"
    }
   ],
   "source": [
    "#weekly usage of the FordGoBike systems:\n",
    "weekday=['Mon','Tue','Wed','Thu','Fri','Sat','Sun']\n",
    "graph=sns.catplot(data=df_clean,x='start_time_day',kind='count',order=weekday,color=base_color);\n",
    "\n",
    "graph.set_axis_labels('Weekdays', 'Number of Bike Trips')\n",
    "\n",
    "graph.fig.suptitle('Ford GoBike Usage by Weekday', y=1.05, fontsize=16, fontweight='bold');\n",
    "\n",
    "graph.set_xticklabels(rotation=75);"
   ]
  },
  {
   "cell_type": "markdown",
   "metadata": {
    "colab_type": "text",
    "id": "T5pgas4_whaZ",
    "slideshow": {
     "slide_type": "slide"
    }
   },
   "source": [
    "### Observation 3: The Rush-Hours\n",
    "> **The bike sharing system has the primary usage between the morning hours(8-9)am and evening hours(4-6)pm, which is the typical work-hour.** This further suggests that the FordGoBike systems are primarily used by the commuters."
   ]
  },
  {
   "cell_type": "code",
   "execution_count": 34,
   "metadata": {
    "colab": {
     "base_uri": "https://localhost:8080/",
     "height": 397
    },
    "colab_type": "code",
    "executionInfo": {
     "elapsed": 366718,
     "status": "ok",
     "timestamp": 1599541849148,
     "user": {
      "displayName": "Subham Gupta",
      "photoUrl": "",
      "userId": "02241834158547853738"
     },
     "user_tz": -330
    },
    "id": "k5ZX4sUZf-ey",
    "outputId": "900b15fe-0799-4097-a29d-4602f46df3a9",
    "slideshow": {
     "slide_type": "subslide"
    }
   },
   "outputs": [
    {
     "data": {
      "image/png": "[encoded data removed]",
      "text/plain": [
       "<Figure size 612x360 with 1 Axes>"
      ]
     },
     "metadata": {
      "needs_background": "light",
      "tags": []
     },
     "output_type": "display_data"
    }
   ],
   "source": [
    "#Hourly usage of the BIke-sharing system:\n",
    "graph = sns.catplot(data = df_clean, x='start_time_hour', kind='count', color = base_color, aspect = 1.7)\n",
    "\n",
    "graph.set_axis_labels('Hours', 'Number of Bike Rides')\n",
    "\n",
    "graph.fig.suptitle('Ford GoBike System Usage by Hour', y=1.05, fontsize=14);"
   ]
  },
  {
   "cell_type": "code",
   "execution_count": 35,
   "metadata": {
    "colab": {
     "base_uri": "https://localhost:8080/",
     "height": 170
    },
    "colab_type": "code",
    "executionInfo": {
     "elapsed": 366701,
     "status": "ok",
     "timestamp": 1599541849150,
     "user": {
      "displayName": "Subham Gupta",
      "photoUrl": "",
      "userId": "02241834158547853738"
     },
     "user_tz": -330
    },
    "id": "DTYRxCQxwSVc",
    "outputId": "79c27251-c933-4c06-a51c-fa1005cc7d8a",
    "slideshow": {
     "slide_type": "skip"
    }
   },
   "outputs": [
    {
     "data": {
      "text/plain": [
       "count    1.851950e+06\n",
       "mean     1.372509e+01\n",
       "std      3.899154e+01\n",
       "min      1.000000e+00\n",
       "25%      5.000000e+00\n",
       "50%      9.000000e+00\n",
       "75%      1.400000e+01\n",
       "max      1.439000e+03\n",
       "Name: duration_min, dtype: float64"
      ]
     },
     "execution_count": 35,
     "metadata": {
      "tags": []
     },
     "output_type": "execute_result"
    }
   ],
   "source": [
    "#examining the total duration of the bike-rides:\n",
    "df_clean.duration_min.describe()\n"
   ]
  },
  {
   "cell_type": "code",
   "execution_count": 36,
   "metadata": {
    "colab": {
     "base_uri": "https://localhost:8080/",
     "height": 34
    },
    "colab_type": "code",
    "executionInfo": {
     "elapsed": 366685,
     "status": "ok",
     "timestamp": 1599541849153,
     "user": {
      "displayName": "Subham Gupta",
      "photoUrl": "",
      "userId": "02241834158547853738"
     },
     "user_tz": -330
    },
    "id": "-hY_2FjPzkHU",
    "outputId": "f033df32-d5ef-4523-d655-bbd324355638",
    "slideshow": {
     "slide_type": "skip"
    }
   },
   "outputs": [
    {
     "data": {
      "text/plain": [
       "13.725090850184941"
      ]
     },
     "execution_count": 36,
     "metadata": {
      "tags": []
     },
     "output_type": "execute_result"
    }
   ],
   "source": [
    "# mean duration of the rides:\n",
    "df_clean.duration_min.mean()"
   ]
  },
  {
   "cell_type": "markdown",
   "metadata": {
    "colab_type": "text",
    "id": "WvIYouDGzWtY",
    "slideshow": {
     "slide_type": "slide"
    }
   },
   "source": [
    "### Observation 4: Where do these people live - How long is the ride?\n",
    "> **The mean ride duration in minutes lies close to 14 minutes, and over 75% of the bike rides are below this mean.This suggests that the bikes are used for shorter durations preferably for commuting to official work.** The duration data is some what normally distributed with a tail in the end."
   ]
  },
  {
   "cell_type": "code",
   "execution_count": 37,
   "metadata": {
    "colab": {
     "base_uri": "https://localhost:8080/",
     "height": 308
    },
    "colab_type": "code",
    "executionInfo": {
     "elapsed": 367183,
     "status": "ok",
     "timestamp": 1599541849669,
     "user": {
      "displayName": "Subham Gupta",
      "photoUrl": "",
      "userId": "02241834158547853738"
     },
     "user_tz": -330
    },
    "id": "e29B8oucx3Rv",
    "outputId": "0aa90278-c741-4678-d1d0-c7378330248a",
    "slideshow": {
     "slide_type": "subslide"
    }
   },
   "outputs": [
    {
     "data": {
      "image/png": "[encoded data removed]",
      "text/plain": [
       "<Figure size 432x288 with 1 Axes>"
      ]
     },
     "metadata": {
      "needs_background": "light",
      "tags": []
     },
     "output_type": "display_data"
    }
   ],
   "source": [
    "# Let's view the duration of the rides via bar-plot:\n",
    "bins=np.arange(0,25,1)\n",
    "ticks = [0, 5, 10, 15, 20, 25]\n",
    "labels = ['{}'.format(val) for val in ticks]\n",
    "\n",
    "plt.hist(data = df_clean[df_clean.duration_min<25], x = 'duration_min', bins = bins, rwidth = 0.7);\n",
    "\n",
    "plt.title(\"FordGoBike System Trip Duration in Minutes\", y=1.05, fontsize=16);\n",
    "plt.xlabel('Duration (Min)')\n",
    "plt.xticks(ticks, labels)\n",
    "plt.ylabel('Number of Bike Trips');"
   ]
  },
  {
   "cell_type": "code",
   "execution_count": 38,
   "metadata": {
    "colab": {
     "base_uri": "https://localhost:8080/",
     "height": 170
    },
    "colab_type": "code",
    "executionInfo": {
     "elapsed": 367169,
     "status": "ok",
     "timestamp": 1599541849674,
     "user": {
      "displayName": "Subham Gupta",
      "photoUrl": "",
      "userId": "02241834158547853738"
     },
     "user_tz": -330
    },
    "id": "RFMTnCf1zDJ-",
    "outputId": "b8189bc1-8117-4b61-a46f-4f39e4350b2a",
    "slideshow": {
     "slide_type": "skip"
    }
   },
   "outputs": [
    {
     "data": {
      "text/plain": [
       "count    1.851950e+06\n",
       "mean     1.594331e+00\n",
       "std      1.026884e+00\n",
       "min      0.000000e+00\n",
       "25%      8.705716e-01\n",
       "50%      1.374943e+00\n",
       "75%      2.088456e+00\n",
       "max      6.530925e+01\n",
       "Name: distance_km, dtype: float64"
      ]
     },
     "execution_count": 38,
     "metadata": {
      "tags": []
     },
     "output_type": "execute_result"
    }
   ],
   "source": [
    "#Now let's look into the distance travelled by the bikes:\n",
    "df_clean.distance_km.describe()"
   ]
  },
  {
   "cell_type": "code",
   "execution_count": 39,
   "metadata": {
    "colab": {
     "base_uri": "https://localhost:8080/",
     "height": 34
    },
    "colab_type": "code",
    "executionInfo": {
     "elapsed": 367109,
     "status": "ok",
     "timestamp": 1599541849676,
     "user": {
      "displayName": "Subham Gupta",
      "photoUrl": "",
      "userId": "02241834158547853738"
     },
     "user_tz": -330
    },
    "id": "ATtqxcCd06CJ",
    "outputId": "9783e220-eff5-49ca-c6f8-f4342f0420b3",
    "slideshow": {
     "slide_type": "skip"
    }
   },
   "outputs": [
    {
     "data": {
      "text/plain": [
       "1.5943307712337504"
      ]
     },
     "execution_count": 39,
     "metadata": {
      "tags": []
     },
     "output_type": "execute_result"
    }
   ],
   "source": [
    "#the mean distance travelled in kms:\n",
    "df_clean.distance_km.mean()"
   ]
  },
  {
   "cell_type": "markdown",
   "metadata": {
    "colab_type": "text",
    "id": "-bTUczGE18Yv",
    "slideshow": {
     "slide_type": "slide"
    }
   },
   "source": [
    "### Observation 5: Where do these people go-\n",
    "> **The mean riding distance for the FordGoBikes are close to 1.6 kilometers, around 50% of the rides are such that it is below 1.6 km. \n",
    "Thus this further suggests that the bikes are mostly used for short duration maybe a few blocks away or around the bay-official area.**"
   ]
  },
  {
   "cell_type": "code",
   "execution_count": 40,
   "metadata": {
    "colab": {
     "base_uri": "https://localhost:8080/",
     "height": 308
    },
    "colab_type": "code",
    "executionInfo": {
     "elapsed": 367766,
     "status": "ok",
     "timestamp": 1599541850367,
     "user": {
      "displayName": "Subham Gupta",
      "photoUrl": "",
      "userId": "02241834158547853738"
     },
     "user_tz": -330
    },
    "id": "jDaS--nP1Ft7",
    "outputId": "14f5358d-c84d-4772-9e1b-69b2174e917d",
    "slideshow": {
     "slide_type": "subslide"
    }
   },
   "outputs": [
    {
     "data": {
      "image/png": "[encoded data removed]",
      "text/plain": [
       "<Figure size 432x288 with 1 Axes>"
      ]
     },
     "metadata": {
      "needs_background": "light",
      "tags": []
     },
     "output_type": "display_data"
    }
   ],
   "source": [
    "#plotting the distance of the rides:\n",
    "bins=np.arange(0,5,1)\n",
    "plt.hist(data=df_clean,x='distance_km',bins=bins);\n",
    "plt.title(\"Ford GoBike System Trip Distance in Kilometers\", y=1.05, fontsize=15)\n",
    "plt.xlabel('Distance (Kilometers)')\n",
    "plt.ylabel('Number of Bike Trips');"
   ]
  },
  {
   "cell_type": "code",
   "execution_count": 41,
   "metadata": {
    "colab": {
     "base_uri": "https://localhost:8080/",
     "height": 102
    },
    "colab_type": "code",
    "executionInfo": {
     "elapsed": 367756,
     "status": "ok",
     "timestamp": 1599541850379,
     "user": {
      "displayName": "Subham Gupta",
      "photoUrl": "",
      "userId": "02241834158547853738"
     },
     "user_tz": -330
    },
    "id": "rNG6CUxk4WuT",
    "outputId": "5b49cdf6-0bb9-41f5-ebc2-081f763fe805",
    "slideshow": {
     "slide_type": "skip"
    }
   },
   "outputs": [
    {
     "data": {
      "text/plain": [
       "count        1851950\n",
       "unique             2\n",
       "top       Subscriber\n",
       "freq         1574991\n",
       "Name: user_type, dtype: object"
      ]
     },
     "execution_count": 41,
     "metadata": {
      "tags": []
     },
     "output_type": "execute_result"
    }
   ],
   "source": [
    "#type of users:\n",
    "df_clean.user_type.describe()"
   ]
  },
  {
   "cell_type": "markdown",
   "metadata": {
    "colab_type": "text",
    "id": "-ac6BWmw4nJ1",
    "slideshow": {
     "slide_type": "slide"
    }
   },
   "source": [
    "### Observation 6: Who are the USER'S?\n",
    "> There are more subcsribers riding the fordGoBikes then the customers, this can be helpful as subscibers can be given special preferences and discounts for loyalty so that they would stick to the company, which in-tern will be helpful to counter business competition. The one-time-customers can be given a good user experience and also the company can run a campaign for the one-time-customers so that they get converted to Subscriber in the long run."
   ]
  },
  {
   "cell_type": "code",
   "execution_count": 42,
   "metadata": {
    "colab": {
     "base_uri": "https://localhost:8080/",
     "height": 298
    },
    "colab_type": "code",
    "executionInfo": {
     "elapsed": 368811,
     "status": "ok",
     "timestamp": 1599541851456,
     "user": {
      "displayName": "Subham Gupta",
      "photoUrl": "",
      "userId": "02241834158547853738"
     },
     "user_tz": -330
    },
    "id": "D0SOlsYx1ac4",
    "outputId": "e0b453ea-fb1b-484c-935b-85055d6a1ebb",
    "slideshow": {
     "slide_type": "subslide"
    }
   },
   "outputs": [
    {
     "data": {
      "image/png": "[encoded data removed]",
      "text/plain": [
       "<Figure size 432x288 with 1 Axes>"
      ]
     },
     "metadata": {
      "needs_background": "light",
      "tags": []
     },
     "output_type": "display_data"
    }
   ],
   "source": [
    "#let's look what type of user rides the bike:\n",
    "plot=sns.countplot(data=df_clean,x='user_type',color=base_color);\n",
    "plot.set_title('User Types of the FordGoBike systems',y=1,fontsize=15);"
   ]
  },
  {
   "cell_type": "markdown",
   "metadata": {
    "ExecuteTime": {
     "end_time": "2020-09-08T07:27:46.361411Z",
     "start_time": "2020-09-08T07:27:46.355424Z"
    },
    "slideshow": {
     "slide_type": "slide"
    }
   },
   "source": [
    "## What do you think the subscriber's group of user be?   \n",
    "### What they use the bike service for?   \n",
    "#### And how can the company expand their business and beat their rivals?"
   ]
  },
  {
   "cell_type": "code",
   "execution_count": 114,
   "metadata": {
    "colab": {
     "base_uri": "https://localhost:8080/",
     "height": 204
    },
    "colab_type": "code",
    "executionInfo": {
     "elapsed": 1122,
     "status": "ok",
     "timestamp": 1599548192385,
     "user": {
      "displayName": "Subham Gupta",
      "photoUrl": "",
      "userId": "02241834158547853738"
     },
     "user_tz": -330
    },
    "id": "b4Wjgf25aSfP",
    "outputId": "3d3a2612-2141-41f7-bcd4-4448c6a39acb",
    "slideshow": {
     "slide_type": "skip"
    }
   },
   "outputs": [
    {
     "data": {
      "text/plain": [
       "15.0    38461\n",
       "67.0    37617\n",
       "30.0    35092\n",
       "58.0    34918\n",
       "81.0    33716\n",
       "6.0     33390\n",
       "21.0    32131\n",
       "3.0     31656\n",
       "16.0    28367\n",
       "22.0    26535\n",
       "Name: start_station_id, dtype: int64"
      ]
     },
     "execution_count": 114,
     "metadata": {
      "tags": []
     },
     "output_type": "execute_result"
    }
   ],
   "source": [
    "#looking into the most visited stations:\n",
    "df_clean.start_station_id.value_counts()[:10,]\n"
   ]
  },
  {
   "cell_type": "markdown",
   "metadata": {
    "colab_type": "text",
    "id": "dBsOzi-Xe0WK",
    "slideshow": {
     "slide_type": "notes"
    }
   },
   "source": [
    "Here, we see that the stations with id's(15,67,30,58,81,6,21,3,16,22) are most visited, hence service at these stations should be priority and bikes nust be kept available during the rush-hours here."
   ]
  },
  {
   "cell_type": "markdown",
   "metadata": {
    "colab_type": "text",
    "id": "VahhQYGd_0ES",
    "slideshow": {
     "slide_type": "slide"
    }
   },
   "source": [
    "###  Discuss the distribution(s) of your variable(s) of interest. Were there any unusual points? Did you need to perform any transformations?\n",
    "\n",
    "> Thanks to the person who very efficiently gathered the data, there were not much cleaning required in the dataset. Though there were some outliers in the ride distance and duration data and some null values in the start and end station names which was easily managed to tackle with the lessons learned in the classroom.\n",
    "\n"
   ]
  },
  {
   "cell_type": "markdown",
   "metadata": {
    "slideshow": {
     "slide_type": "slide"
    }
   },
   "source": [
    "###  Of the features you investigated, were there any unusual distributions? Did you perform any operations on the data to tidy, adjust, or change the form of the data? If so, why did you do this?\n",
    "\n",
    "> The data was almost normally distributed in my search area/area-of-interest. Uptill now the dataset reveals that        \n",
    "1.The bikes are mostly used in the months of june/july/september/october/november when the weather is sunny with pleasant autumn winds.  \n",
    "2.It also reveals that the bikes are mostly used in the office hours morning(8-9am) and evening(4-6p.m) on the weekdays.  \n",
    "3.The dataset further tells that the rides end mostly under 15 minutes of starting the ride and most of the rides are upto 1.6 kilometers in distance.\n"
   ]
  },
  {
   "cell_type": "markdown",
   "metadata": {
    "colab_type": "text",
    "id": "62V87dN9Cfnf",
    "slideshow": {
     "slide_type": "slide"
    }
   },
   "source": [
    "#  Bivariate Exploration:\n",
    "> In this section we will be analysing the relationships between two variables of the dataset and get useful insights from it."
   ]
  },
  {
   "cell_type": "code",
   "execution_count": 43,
   "metadata": {
    "colab": {
     "base_uri": "https://localhost:8080/",
     "height": 297
    },
    "colab_type": "code",
    "executionInfo": {
     "elapsed": 368796,
     "status": "ok",
     "timestamp": 1599541851462,
     "user": {
      "displayName": "Subham Gupta",
      "photoUrl": "",
      "userId": "02241834158547853738"
     },
     "user_tz": -330
    },
    "id": "u2TDNBeb8F4c",
    "outputId": "d8670378-dbec-4409-faf9-f993f447fa6d",
    "slideshow": {
     "slide_type": "subslide"
    }
   },
   "outputs": [
    {
     "data": {
      "image/png": "[encoded data removed]",
      "text/plain": [
       "<Figure size 432x288 with 1 Axes>"
      ]
     },
     "metadata": {
      "tags": []
     },
     "output_type": "display_data"
    }
   ],
   "source": [
    "#the percentage of subsribers and customers:\n",
    "customer = df_clean.query('user_type == \"Customer\"')['bike_id'].count()\n",
    "subs = df_clean.query('user_type == \"Subscriber\"')['bike_id'].count()\n",
    "customer=customer/df_clean['bike_id'].count()\n",
    "subs=subs/df_clean['bike_id'].count()\n",
    "plot=[customer,subs]\n",
    "\n",
    "labels = ['Customer', 'Subscriber']\n",
    "#explode = (0, 0.3)\n",
    "\n",
    "plt.pie(plot, labels = labels ,autopct='%1.1f%%', shadow=True, startangle=90, textprops={'color':'white'})\n",
    "plt.axis('equal')\n",
    "\n",
    "plt.suptitle('Ford GoBike System - Customers vs. Subscribers', y=1.05, fontsize=16);\n"
   ]
  },
  {
   "cell_type": "markdown",
   "metadata": {
    "colab_type": "text",
    "id": "7hExa4hYjsCx",
    "slideshow": {
     "slide_type": "slide"
    }
   },
   "source": [
    "### Observation 1: Sub's are with us all-year-round\n",
    "> The user group 'Customer' or one-time-customer uses the bike sharing system mostly in the autumn or early-winters, which is a good time to go arround the bay-area for some good view and fresh breeze.This group will be preferably consisting of tourists or occassional riders that visit the bay.\n",
    "\n",
    "> On the other hand, the 'Subscriber' group of users use's the bike-sharing system more or less throughout the late-summers, autumn and early-winters. The subscribers mostly use their rides for their daily commute."
   ]
  },
  {
   "cell_type": "code",
   "execution_count": 44,
   "metadata": {
    "colab": {
     "base_uri": "https://localhost:8080/",
     "height": 443
    },
    "colab_type": "code",
    "executionInfo": {
     "elapsed": 386715,
     "status": "ok",
     "timestamp": 1599541869402,
     "user": {
      "displayName": "Subham Gupta",
      "photoUrl": "",
      "userId": "02241834158547853738"
     },
     "user_tz": -330
    },
    "id": "jIcZv0PWCfE1",
    "outputId": "979e8fcc-4ebc-498f-8e54-1db4c9976948",
    "slideshow": {
     "slide_type": "subslide"
    }
   },
   "outputs": [
    {
     "data": {
      "image/png": "[encoded data removed]",
      "text/plain": [
       "<Figure size 720x360 with 2 Axes>"
      ]
     },
     "metadata": {
      "needs_background": "light",
      "tags": []
     },
     "output_type": "display_data"
    }
   ],
   "source": [
    "#customer and subscriber bike-usage by month:\n",
    "graph = sns.catplot(data=df_clean, x='start_time_month', col=\"user_type\", kind='count', sharey = True, color = base_color);\n",
    "\n",
    "graph.set_axis_labels(\"Month\", \"Number of Bike Trips\");\n",
    "graph.set_titles(\"{col_name}\");\n",
    "\n",
    "graph.fig.suptitle('Ford GoBike System - Customers vs. Subscribers', y=1.05, fontsize=16, fontweight='bold');\n",
    "graph.set_xticklabels(rotation=75); "
   ]
  },
  {
   "cell_type": "markdown",
   "metadata": {
    "colab_type": "text",
    "id": "h_8lGMKOmWuk",
    "slideshow": {
     "slide_type": "slide"
    }
   },
   "source": [
    "### Observation 2: Customers are party people.\n",
    "> Here, we can see that the subscribers use the rides mostly on the weekdays that further suggests their are a working class of people using the bike-sharing system mostly for their commute.\n",
    "\n",
    "> The one-time-customers use the rides mostly on the weekends can be preferably for leisure and partying."
   ]
  },
  {
   "cell_type": "code",
   "execution_count": 45,
   "metadata": {
    "colab": {
     "base_uri": "https://localhost:8080/",
     "height": 365
    },
    "colab_type": "code",
    "executionInfo": {
     "elapsed": 386700,
     "status": "ok",
     "timestamp": 1599541869408,
     "user": {
      "displayName": "Subham Gupta",
      "photoUrl": "",
      "userId": "02241834158547853738"
     },
     "user_tz": -330
    },
    "id": "J5mXX22c4NES",
    "outputId": "3c3b5f7d-8029-4ccc-db11-1f614ec404ec",
    "slideshow": {
     "slide_type": "subslide"
    }
   },
   "outputs": [
    {
     "data": {
      "image/png": "[encoded data removed]",
      "text/plain": [
       "<Figure size 864x360 with 1 Axes>"
      ]
     },
     "metadata": {
      "needs_background": "light",
      "tags": []
     },
     "output_type": "display_data"
    }
   ],
   "source": [
    "#Customer and subscriber usage of rides on weekdays:\n",
    "plt.figure(figsize=(12, 5))\n",
    "\n",
    "df_clean_user_day = df_clean.groupby(['start_time_day', 'user_type']).size().reset_index()\n",
    "weekdays = ['Mon', 'Tue', 'Wed', 'Thu', 'Fri', 'Sat', 'Sun']\n",
    "\n",
    "ax = sns.pointplot(data=df_clean_user_day, x='start_time_day', y=0, hue = 'user_type', scale=.7, order = weekdays);\n",
    "\n",
    "plt.title('Ford GoBike System Trends by User Type', y=1.05, fontsize=16, fontweight='bold')\n",
    "plt.xlabel('Weekdays')\n",
    "plt.ylabel('Number of Bike Trips');\n",
    "plt.grid()"
   ]
  },
  {
   "cell_type": "code",
   "execution_count": 46,
   "metadata": {
    "colab": {
     "base_uri": "https://localhost:8080/",
     "height": 170
    },
    "colab_type": "code",
    "executionInfo": {
     "elapsed": 386682,
     "status": "ok",
     "timestamp": 1599541869409,
     "user": {
      "displayName": "Subham Gupta",
      "photoUrl": "",
      "userId": "02241834158547853738"
     },
     "user_tz": -330
    },
    "id": "VXB40y1elxP6",
    "outputId": "fb8d5a99-0f1f-4738-b3e6-5a2f52fc8764",
    "slideshow": {
     "slide_type": "skip"
    }
   },
   "outputs": [
    {
     "data": {
      "text/plain": [
       "count    1.851950e+06\n",
       "mean     1.372509e+01\n",
       "std      3.899154e+01\n",
       "min      1.000000e+00\n",
       "25%      5.000000e+00\n",
       "50%      9.000000e+00\n",
       "75%      1.400000e+01\n",
       "max      1.439000e+03\n",
       "Name: duration_min, dtype: float64"
      ]
     },
     "execution_count": 46,
     "metadata": {
      "tags": []
     },
     "output_type": "execute_result"
    }
   ],
   "source": [
    "df_clean.duration_min.describe()"
   ]
  },
  {
   "cell_type": "markdown",
   "metadata": {
    "colab_type": "text",
    "id": "-b7Smua5qS3J",
    "slideshow": {
     "slide_type": "slide"
    }
   },
   "source": [
    "### Observation 3: Customers V/s Subscribers- who rode the bike longer\n",
    "> The graph above shows the ride duration in minutes for the two group of users. The Customer-group's ride duration is slightly greater than the Subscriber-group. That can be mostly because of subscribers mostly use bikes for short trips to work/school whereas the one-time-customers took longer trips to go arround the bay-area."
   ]
  },
  {
   "cell_type": "code",
   "execution_count": 47,
   "metadata": {
    "colab": {
     "base_uri": "https://localhost:8080/",
     "height": 348
    },
    "colab_type": "code",
    "executionInfo": {
     "elapsed": 403991,
     "status": "ok",
     "timestamp": 1599541886851,
     "user": {
      "displayName": "Subham Gupta",
      "photoUrl": "",
      "userId": "02241834158547853738"
     },
     "user_tz": -330
    },
    "id": "5oeNQA9tpxCc",
    "outputId": "11f61e0f-191e-45ba-fb9b-1bb52f973148",
    "slideshow": {
     "slide_type": "subslide"
    }
   },
   "outputs": [
    {
     "data": {
      "image/png": "[encoded data removed]",
      "text/plain": [
       "<Figure size 1440x360 with 2 Axes>"
      ]
     },
     "metadata": {
      "needs_background": "light",
      "tags": []
     },
     "output_type": "display_data"
    }
   ],
   "source": [
    "#Customer ride duration v/s subscriber ride duration:\n",
    "data = df_clean.query('duration_min < 35')\n",
    "\n",
    "graph = sns.catplot(data=data, x = 'duration_min', col='user_type', kind='count', sharey = False, color = base_color, height=5, aspect=2);\n",
    "\n",
    "graph.set_axis_labels('Duration (Min)', 'Number of Bike Trips')\n",
    "graph.set_titles('{col_name}')\n",
    "\n",
    "graph.fig.suptitle('Ford GoBike System - Customers vs. Subscribers Ride Duration (Min)', y=1.05, fontsize=16, fontweight='bold');\n",
    "graph.set_xticklabels(rotation=75);"
   ]
  },
  {
   "cell_type": "code",
   "execution_count": 48,
   "metadata": {
    "colab": {},
    "colab_type": "code",
    "executionInfo": {
     "elapsed": 403976,
     "status": "ok",
     "timestamp": 1599541886853,
     "user": {
      "displayName": "Subham Gupta",
      "photoUrl": "",
      "userId": "02241834158547853738"
     },
     "user_tz": -330
    },
    "id": "P9mxBZXS3-CV",
    "slideshow": {
     "slide_type": "skip"
    }
   },
   "outputs": [],
   "source": [
    "samples = np.random.choice(df_clean.shape[0], 2000, replace = False);\n",
    "#samp = df_clean.loc[samples, :];\n",
    "categoric_vars = ['start_time_day', 'start_time_hour', 'user_type']\n",
    "weekdays = ['Mon', 'Tue', 'Wed', 'Thu', 'Fri', 'Sat', 'Sun']\n"
   ]
  },
  {
   "cell_type": "code",
   "execution_count": 49,
   "metadata": {
    "colab": {},
    "colab_type": "code",
    "executionInfo": {
     "elapsed": 407078,
     "status": "ok",
     "timestamp": 1599541889987,
     "user": {
      "displayName": "Subham Gupta",
      "photoUrl": "",
      "userId": "02241834158547853738"
     },
     "user_tz": -330
    },
    "id": "KDIMbN9msFDn",
    "slideshow": {
     "slide_type": "skip"
    }
   },
   "outputs": [],
   "source": [
    "# compute the logarithm of price to make multivariate plotting easier\n",
    "def log_trans(x, inverse = False):\n",
    "    \"\"\" quick function for computing log and power operations \"\"\"\n",
    "    if not inverse:\n",
    "        return np.log10(x)\n",
    "    else:\n",
    "        return np.power(10, x)\n",
    "\n",
    "df_clean['log_duration_min'] = df_clean['duration_min'].apply(log_trans)"
   ]
  },
  {
   "cell_type": "markdown",
   "metadata": {
    "colab_type": "text",
    "id": "iBBzb2VOyl6J",
    "slideshow": {
     "slide_type": "slide"
    }
   },
   "source": [
    "### Observation 4: No bikes available during Rush-Hour = No revenew for the company!\n",
    "> 1. from the log_duration and user_type graph(3rd row,1st col) it can be observed that the customer's bike-ride mean duration is higher than the subscribers mean bike-ride duration. The bike company can focus on these one-time-customers and increase their subscriber count by giving them good experiences.\n",
    "2. From the log_duration_min and the start_time_of_day graph(1st row, 1st col), it can be observed that there are more number of rides close to the mean-duration of rides(10 minutes) on the weekdays. **Hence the bike sharing company can use this insight in order to make necessary changes to their algorithms in order to make sure that there are bikes available during these days rather than getting parked on some other less used stations.**"
   ]
  },
  {
   "cell_type": "code",
   "execution_count": 50,
   "metadata": {
    "colab": {
     "base_uri": "https://localhost:8080/",
     "height": 606
    },
    "colab_type": "code",
    "executionInfo": {
     "elapsed": 451861,
     "status": "ok",
     "timestamp": 1599541934884,
     "user": {
      "displayName": "Subham Gupta",
      "photoUrl": "",
      "userId": "02241834158547853738"
     },
     "user_tz": -330
    },
    "id": "RIYGqq3rxCwK",
    "outputId": "18c63902-4f84-45f3-8d36-6b9e7b3dcb13",
    "slideshow": {
     "slide_type": "subslide"
    }
   },
   "outputs": [
    {
     "data": {
      "image/png": "[encoded data removed]",
      "text/plain": [
       "<Figure size 1080x720 with 6 Axes>"
      ]
     },
     "metadata": {
      "needs_background": "light",
      "tags": []
     },
     "output_type": "display_data"
    }
   ],
   "source": [
    "# plot the categorical variables against duration_min and member_age again, this time\n",
    "# with full data and variable transforms\n",
    "fig, ax = plt.subplots(ncols = 2, nrows =3 , figsize = [15,10])\n",
    "\n",
    "for i in range(len(categoric_vars)):\n",
    "    var = categoric_vars[i]\n",
    "    sns.violinplot(data = df_clean, x = var, y = 'log_duration_min', ax = ax[i,0], color = base_color);\n",
    "    ax[i,0].set_yticks(log_trans(np.array([1, 2, 5, 10, 20, 50, 100])));\n",
    "    ax[i,0].set_yticklabels([1, 2, 5, 10, 20, 50, 100]);\n",
    "    sns.violinplot(data = df_clean, x = var, y = 'distance_km', ax = ax[i,1], color = base_color);"
   ]
  },
  {
   "cell_type": "code",
   "execution_count": 57,
   "metadata": {
    "colab": {
     "base_uri": "https://localhost:8080/",
     "height": 297
    },
    "colab_type": "code",
    "executionInfo": {
     "elapsed": 1104,
     "status": "ok",
     "timestamp": 1599545006186,
     "user": {
      "displayName": "Subham Gupta",
      "photoUrl": "",
      "userId": "02241834158547853738"
     },
     "user_tz": -330
    },
    "id": "4S5P6bvKTvwm",
    "outputId": "345be3a3-a183-45f6-ac23-8f2efea14beb",
    "slideshow": {
     "slide_type": "skip"
    }
   },
   "outputs": [
    {
     "data": {
      "text/html": [
       "<div>\n",
       "<style scoped>\n",
       "    .dataframe tbody tr th:only-of-type {\n",
       "        vertical-align: middle;\n",
       "    }\n",
       "\n",
       "    .dataframe tbody tr th {\n",
       "        vertical-align: top;\n",
       "    }\n",
       "\n",
       "    .dataframe thead th {\n",
       "        text-align: right;\n",
       "    }\n",
       "</style>\n",
       "<table border=\"1\" class=\"dataframe\">\n",
       "  <thead>\n",
       "    <tr style=\"text-align: right;\">\n",
       "      <th></th>\n",
       "      <th>start_time_hour</th>\n",
       "      <th>distance_km</th>\n",
       "    </tr>\n",
       "  </thead>\n",
       "  <tbody>\n",
       "    <tr>\n",
       "      <th>count</th>\n",
       "      <td>1.851950e+06</td>\n",
       "      <td>1.851950e+06</td>\n",
       "    </tr>\n",
       "    <tr>\n",
       "      <th>mean</th>\n",
       "      <td>1.350753e+01</td>\n",
       "      <td>1.594331e+00</td>\n",
       "    </tr>\n",
       "    <tr>\n",
       "      <th>std</th>\n",
       "      <td>4.742066e+00</td>\n",
       "      <td>1.026884e+00</td>\n",
       "    </tr>\n",
       "    <tr>\n",
       "      <th>min</th>\n",
       "      <td>0.000000e+00</td>\n",
       "      <td>0.000000e+00</td>\n",
       "    </tr>\n",
       "    <tr>\n",
       "      <th>25%</th>\n",
       "      <td>9.000000e+00</td>\n",
       "      <td>8.705716e-01</td>\n",
       "    </tr>\n",
       "    <tr>\n",
       "      <th>50%</th>\n",
       "      <td>1.400000e+01</td>\n",
       "      <td>1.374943e+00</td>\n",
       "    </tr>\n",
       "    <tr>\n",
       "      <th>75%</th>\n",
       "      <td>1.700000e+01</td>\n",
       "      <td>2.088456e+00</td>\n",
       "    </tr>\n",
       "    <tr>\n",
       "      <th>max</th>\n",
       "      <td>2.300000e+01</td>\n",
       "      <td>6.530925e+01</td>\n",
       "    </tr>\n",
       "  </tbody>\n",
       "</table>\n",
       "</div>"
      ],
      "text/plain": [
       "       start_time_hour   distance_km\n",
       "count     1.851950e+06  1.851950e+06\n",
       "mean      1.350753e+01  1.594331e+00\n",
       "std       4.742066e+00  1.026884e+00\n",
       "min       0.000000e+00  0.000000e+00\n",
       "25%       9.000000e+00  8.705716e-01\n",
       "50%       1.400000e+01  1.374943e+00\n",
       "75%       1.700000e+01  2.088456e+00\n",
       "max       2.300000e+01  6.530925e+01"
      ]
     },
     "execution_count": 57,
     "metadata": {
      "tags": []
     },
     "output_type": "execute_result"
    }
   ],
   "source": [
    "df_clean[['start_time_hour','distance_km']].describe()"
   ]
  },
  {
   "cell_type": "code",
   "execution_count": 63,
   "metadata": {
    "colab": {},
    "colab_type": "code",
    "executionInfo": {
     "elapsed": 1523,
     "status": "ok",
     "timestamp": 1599545361304,
     "user": {
      "displayName": "Subham Gupta",
      "photoUrl": "",
      "userId": "02241834158547853738"
     },
     "user_tz": -330
    },
    "id": "u0Gy2l8BUObZ",
    "slideshow": {
     "slide_type": "skip"
    }
   },
   "outputs": [],
   "source": [
    "xbin=np.arange(0,24+1,1)\n",
    "ybin=np.arange(0,20+5,5)\n"
   ]
  },
  {
   "cell_type": "markdown",
   "metadata": {
    "colab_type": "text",
    "id": "10FpWtNTux79",
    "slideshow": {
     "slide_type": "slide"
    }
   },
   "source": [
    "### Observation 5: Morning Hours- The world's awake but the business sleeps!!\n",
    "\n",
    "> From the Start_time_hour and the distance_km heatmap, we can see that in the early morning hours the bikes are very least used and hence generates no revenew, using these insights the bike company can come up with early-morning offers with lesser rates so that the bikes could generate revenew.\n",
    "\n"
   ]
  },
  {
   "cell_type": "code",
   "execution_count": 64,
   "metadata": {
    "colab": {
     "base_uri": "https://localhost:8080/",
     "height": 283
    },
    "colab_type": "code",
    "executionInfo": {
     "elapsed": 3091,
     "status": "ok",
     "timestamp": 1599545363437,
     "user": {
      "displayName": "Subham Gupta",
      "photoUrl": "",
      "userId": "02241834158547853738"
     },
     "user_tz": -330
    },
    "id": "FG-Wx5cpEyyY",
    "outputId": "09e5deb5-2e03-40c3-d283-74971699d7e6",
    "slideshow": {
     "slide_type": "subslide"
    }
   },
   "outputs": [
    {
     "data": {
      "image/png": "[encoded data removed]",
      "text/plain": [
       "<Figure size 432x288 with 2 Axes>"
      ]
     },
     "metadata": {
      "needs_background": "light",
      "tags": []
     },
     "output_type": "display_data"
    }
   ],
   "source": [
    "plt.hist2d(data=df_clean,x='start_time_hour',y='distance_km',cmin=0.5,cmap='viridis_r',bins=[xbin,ybin]);\n",
    "plt.colorbar()\n",
    "plt.xlabel('Start time hour');\n",
    "plt.ylabel('Distance(km)');"
   ]
  },
  {
   "cell_type": "markdown",
   "metadata": {
    "colab_type": "text",
    "id": "9WoZ8azq1Jvq",
    "slideshow": {
     "slide_type": "slide"
    }
   },
   "source": [
    "###  Talk about some of the relationships you observed in this part of the investigation. How did the feature(s) of interest vary with other features in the dataset?\n",
    "\n",
    "> The user type analysis revealed much insights about the rides.\n",
    "1. The data suggests that the one-yime-customers are casual users such as tourists or students or people using the bikes for non-official and leisure works, this insight is also supported by the observation that the \n",
    "usage increases on the weekends.\n",
    "2. On the other hand, the graphs suggests that the subscribers are daily commuters or students during the weekdays for work/official uses.\n",
    "3. Again it was observed that on the weekdays there were rides mostly of short duration close to the mean_duration of the rides.This can be helpful to the company as they can use this insight to alter their algorithms and try to provide bikes in the rush-hours on the weekdays so as provide good user-experience and generate revenew. **Also it should be noted that the most of the rides are of short duration between 10-15minutes, if the company fails to provide bikes needed at the rush-hour then they might loose rides as the user may prefer to walk rather than waiting for the bikes to arrive looking at the short duration of the bike-ride.**\n",
    "\n"
   ]
  },
  {
   "cell_type": "markdown",
   "metadata": {
    "slideshow": {
     "slide_type": "slide"
    }
   },
   "source": [
    "###  Did you observe any interesting relationships between the other features (not the main feature(s) of interest)?\n",
    "\n",
    "> A difference in the duration of the rides was observed among the two groups of the user namely the Customers and the Subscribers. The subscribers used the bikes mostly for short trips to-and-fro from work, whereas the customers used the bikes for leisure and non official purposes.**It should be noted that the subscribers must be paid attention for the bikes being available as they are regular users and might prefer to walk arround from work if bikes not avaiable keeping in mind the short duration they travel.**"
   ]
  },
  {
   "cell_type": "markdown",
   "metadata": {
    "colab_type": "text",
    "id": "ZwAysnsC6V4P",
    "slideshow": {
     "slide_type": "slide"
    }
   },
   "source": [
    "#  Multivariate Exploration:\n",
    "> In this section we would be looking into the relationship of one or more variables by plotting them into complex graphs."
   ]
  },
  {
   "cell_type": "markdown",
   "metadata": {
    "colab_type": "text",
    "id": "5ox46D25Jhlj",
    "slideshow": {
     "slide_type": "slide"
    }
   },
   "source": [
    " ### Observation: Customers are partying on friday nights.....\n",
    " > Customers use the bike sharing system more often on weekends,  \n",
    "Customers: **During weekdays, most bike rides occur between 4-6pm, peaking on Fridays around 5pm.** During weekends, most bike rides occur between 11am and 6pm, peaking on Saturdays around 2pm.\n"
   ]
  },
  {
   "cell_type": "code",
   "execution_count": 71,
   "metadata": {
    "colab": {
     "base_uri": "https://localhost:8080/",
     "height": 307
    },
    "colab_type": "code",
    "executionInfo": {
     "elapsed": 1803,
     "status": "ok",
     "timestamp": 1599545750500,
     "user": {
      "displayName": "Subham Gupta",
      "photoUrl": "",
      "userId": "02241834158547853738"
     },
     "user_tz": -330
    },
    "id": "UwrE-WO99AeV",
    "outputId": "1651b1a3-7162-443c-b95a-e75067351e31",
    "slideshow": {
     "slide_type": "subslide"
    }
   },
   "outputs": [
    {
     "data": {
      "image/png": "[encoded data removed]",
      "text/plain": [
       "<Figure size 432x288 with 2 Axes>"
      ]
     },
     "metadata": {
      "needs_background": "light",
      "tags": []
     },
     "output_type": "display_data"
    }
   ],
   "source": [
    "weekday = ['Mon', 'Tue', 'Wed', 'Thu', 'Fri', 'Sat', 'Sun']\n",
    "df_clean['start_time_weekday'] = pd.Categorical(df_clean['start_time_day'], categories= ['Mon', 'Tue', 'Wed', 'Thu', 'Fri', 'Sat', 'Sun'], ordered=True);\n",
    "\n",
    "#plt.figure(figsize=(15,8))\n",
    "\n",
    "# Heatmap - Customers\n",
    "#plt.subplot(1, 2, 1)\n",
    "df_customer = df_clean.query('user_type == \"Customer\"').groupby(['start_time_hour', 'start_time_day'])['bike_id'].size().reset_index();\n",
    "df_customer = df_customer.pivot('start_time_hour', 'start_time_day', 'bike_id')\n",
    "\n",
    "heat_map = sns.heatmap(df_customer, cmap = 'twilight');\n",
    "\n",
    "plt.title('Customer', y=1.05)\n",
    "plt.xlabel('Weekday', labelpad = 16)\n",
    "plt.ylabel('Start Time Hour',  labelpad = 16)\n",
    "\n",
    "plt.show()"
   ]
  },
  {
   "cell_type": "markdown",
   "metadata": {
    "colab_type": "text",
    "id": "OCUEdb68Jzws",
    "slideshow": {
     "slide_type": "slide"
    }
   },
   "source": [
    "### Observation: Subscribers are too hard-working!\n",
    "> Subscribers mostly use the bike sharing system on weekdays during office hours.  \n",
    " **Subscribers: During weekdays, most bike rides occur around 8-9am and 4-6pm.** During weekends, there is a significant drop in the number of rented bikes."
   ]
  },
  {
   "cell_type": "code",
   "execution_count": 66,
   "metadata": {
    "colab": {
     "base_uri": "https://localhost:8080/",
     "height": 307
    },
    "colab_type": "code",
    "executionInfo": {
     "elapsed": 1601,
     "status": "ok",
     "timestamp": 1599545455371,
     "user": {
      "displayName": "Subham Gupta",
      "photoUrl": "",
      "userId": "02241834158547853738"
     },
     "user_tz": -330
    },
    "id": "5xBGjcvCxGff",
    "outputId": "6ff1546f-594d-4d00-afba-b895c1461c1c",
    "slideshow": {
     "slide_type": "subslide"
    }
   },
   "outputs": [
    {
     "data": {
      "image/png": "[encoded data removed]",
      "text/plain": [
       "<Figure size 432x288 with 2 Axes>"
      ]
     },
     "metadata": {
      "needs_background": "light",
      "tags": []
     },
     "output_type": "display_data"
    }
   ],
   "source": [
    "# Heatmap - Subscribers\n",
    "#plt.subplot(1, 2, 1)\n",
    "df_subs = df_clean.query('user_type == \"Subscriber\"').groupby(['start_time_hour', 'start_time_day'])['bike_id'].size().reset_index();\n",
    "df_subs = df_subs.pivot('start_time_hour', 'start_time_day', 'bike_id')\n",
    "\n",
    "heat_map = sns.heatmap(df_subs, cmap = 'twilight')\n",
    "\n",
    "plt.title('Subscriber', y=1.05)\n",
    "plt.xlabel('Weekday', labelpad = 16)\n",
    "plt.ylabel('Start Time Hour',  labelpad = 16)\n",
    "\n",
    "plt.show()"
   ]
  },
  {
   "cell_type": "markdown",
   "metadata": {
    "colab_type": "text",
    "id": "dQWOwo4MKYJU",
    "slideshow": {
     "slide_type": "slide"
    }
   },
   "source": [
    "###  Talk about some of the relationships you observed in this part of the investigation. Were there features that strengthened each other in terms of looking at your feature(s) of interest?\n",
    "> The observations in this section amplified the previous observations and insights, by the addition of more variables.  \n",
    "The one-time-Customer group's key usage hour for the bikes were observed and **it was found that on the weekdays the one-time-customers used the bikes from 4p.m to 6p.m which should be noted because of the reason that the customers mostly use the bikes for leisure and not for important purposes and hence may account for the bikes being stationed in other less important stations, which in-tern will hamper the bike availability for the rush-hours starting from (6p.m to 8p.m)**\n",
    "\n"
   ]
  },
  {
   "cell_type": "markdown",
   "metadata": {
    "slideshow": {
     "slide_type": "slide"
    }
   },
   "source": [
    "###  Were there any interesting or surprising interactions between features?\n",
    "> An interesting insight found in this section is that the time of usage for the customer's group of users and the subscriber group of users are totally opposite and dosen't collide with each other.  \n",
    "This could be helpful as the bikes will be occupied evenly during the whole day.  \n",
    "However this also lead to problems regarding the availability of the bikes for the subscriber's as the customer's uses the bikes before the rush-hours and for leisure works."
   ]
  },
  {
   "cell_type": "markdown",
   "metadata": {
    "colab_type": "text",
    "id": "FLtk1vJNOpCu",
    "slideshow": {
     "slide_type": "slide"
    }
   },
   "source": [
    "## Summary\n",
    "> Through this project on the FordGoBike dataset very important conclusions can be derived for improving the business and experience of the user's.  \n",
    "1. Renting a bike from the FordGoBike bike-sharing system is an affordable and convenient way of commuting in and arround the city, both for enjoyment and work.  \n",
    "2. It is an environment friendly and life-style friendly mode of transportation as there are people with different life-styles being office worker,school student,college student,store worker,leisure purpose,etc.  \n",
    "3. Subscribers or the daily commuters are a group that uses the bikes for short rides primarily to and fro from work.They uses the bikes mostly on weekdays during the official hours i.e. morning(8-9)a.m. and evening(6-8)p.m.  \n",
    "4. Customers or occassional riders are mostly tourists who uses the bikes for going arround the places and sight-seeing the bay-area.They use the bikes mostly on the weekends between 11a.m to 6p.m, but on weekdays they prefer to go out between 4p.m to 6p.m.  \n",
    "5. It was seen in the explorations that on the weekdays the one-time-customers used the bikes from 4-6p.mm in the evening after which the office rush-hour starts.Here the point of availability of the bikes could arise and determine the revenew generated."
   ]
  },
  {
   "cell_type": "markdown",
   "metadata": {
    "colab_type": "text",
    "id": "E4LNv1bKaq9Y",
    "slideshow": {
     "slide_type": "slide"
    }
   },
   "source": [
    "### Sources:\n",
    "1. [FordGoBike](https://s3.amazonaws.com/baywheels-data/index.html) dataset.\n",
    "2. [Seaborn](https://seaborn.pydata.org/generated/seaborn.countplot.html) documentation\n",
    "3. [Matplotlib](https://matplotlib.org/) documentation for histograms\n",
    "\n"
   ]
  }
 ],
 "metadata": {
  "celltoolbar": "Slideshow",
  "colab": {
   "collapsed_sections": [],
   "name": "exploration.ipynb",
   "provenance": []
  },
  "kernelspec": {
   "display_name": "Python 3",
   "language": "python",
   "name": "python3"
  },
  "language_info": {
   "codemirror_mode": {
    "name": "ipython",
    "version": 3
   },
   "file_extension": ".py",
   "mimetype": "text/x-python",
   "name": "python",
   "nbconvert_exporter": "python",
   "pygments_lexer": "ipython3",
   "version": "3.8.2"
  },
  "toc": {
   "base_numbering": 1,
   "nav_menu": {},
   "number_sections": true,
   "sideBar": true,
   "skip_h1_title": false,
   "title_cell": "Table of Contents",
   "title_sidebar": "Contents",
   "toc_cell": false,
   "toc_position": {},
   "toc_section_display": true,
   "toc_window_display": false
  },
  "varInspector": {
   "cols": {
    "lenName": 16,
    "lenType": 16,
    "lenVar": 40
   },
   "kernels_config": {
    "python": {
     "delete_cmd_postfix": "",
     "delete_cmd_prefix": "del ",
     "library": "var_list.py",
     "varRefreshCmd": "print(var_dic_list())"
    },
    "r": {
     "delete_cmd_postfix": ") ",
     "delete_cmd_prefix": "rm(",
     "library": "var_list.r",
     "varRefreshCmd": "cat(var_dic_list()) "
    }
   },
   "types_to_exclude": [
    "module",
    "function",
    "builtin_function_or_method",
    "instance",
    "_Feature"
   ],
   "window_display": false
  }
 },
 "nbformat": 4,
 "nbformat_minor": 1
}
